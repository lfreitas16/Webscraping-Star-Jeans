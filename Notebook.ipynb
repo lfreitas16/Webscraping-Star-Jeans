{
 "cells": [
  {
   "cell_type": "markdown",
   "id": "87581ead",
   "metadata": {},
   "source": [
    "# Welcome to the Star Jeans Data Analysis\n",
    "\n",
    "## Market research to launch a new clothing line"
   ]
  },
  {
   "cell_type": "markdown",
   "id": "3eaed955",
   "metadata": {},
   "source": [
    "# 1 - Importing Python Libraries"
   ]
  },
  {
   "cell_type": "code",
   "execution_count": 1,
   "id": "2b9c153d",
   "metadata": {},
   "outputs": [],
   "source": [
    "import sqlalchemy as sa\n",
    "import re\n",
    "import sqlite3\n",
    "import requests\n",
    "import numpy  as np\n",
    "import pandas as pd\n",
    "import io\n",
    "import seaborn as sns\n",
    "import math\n",
    "\n",
    "from bs4        import BeautifulSoup\n",
    "from datetime   import datetime\n",
    "from sqlalchemy import create_engine"
   ]
  },
  {
   "cell_type": "markdown",
   "id": "2a6d92be",
   "metadata": {},
   "source": [
    "# 2 - Data Collection\n",
    "\n",
    "## Beautiful soup is a Python library for Web Scraping. It creates a parse tree that can be used to extract data from HTML on a website. "
   ]
  },
  {
   "cell_type": "code",
   "execution_count": 2,
   "id": "8857d84c",
   "metadata": {},
   "outputs": [
    {
     "ename": "ConnectionError",
     "evalue": "HTTPSConnectionPool(host='www2.hm.com', port=443): Max retries exceeded with url: /en_us/men/products/jeans.html (Caused by NewConnectionError('<urllib3.connection.HTTPSConnection object at 0x000002348BC610D0>: Failed to establish a new connection: [Errno 11001] getaddrinfo failed'))",
     "output_type": "error",
     "traceback": [
      "\u001b[1;31m---------------------------------------------------------------------------\u001b[0m",
      "\u001b[1;31mgaierror\u001b[0m                                  Traceback (most recent call last)",
      "File \u001b[1;32mC:\\repos\\anaconda3\\envs\\star_jeans\\lib\\site-packages\\urllib3\\connection.py:174\u001b[0m, in \u001b[0;36mHTTPConnection._new_conn\u001b[1;34m(self)\u001b[0m\n\u001b[0;32m    173\u001b[0m \u001b[38;5;28;01mtry\u001b[39;00m:\n\u001b[1;32m--> 174\u001b[0m     conn \u001b[38;5;241m=\u001b[39m \u001b[43mconnection\u001b[49m\u001b[38;5;241;43m.\u001b[39;49m\u001b[43mcreate_connection\u001b[49m\u001b[43m(\u001b[49m\n\u001b[0;32m    175\u001b[0m \u001b[43m        \u001b[49m\u001b[43m(\u001b[49m\u001b[38;5;28;43mself\u001b[39;49m\u001b[38;5;241;43m.\u001b[39;49m\u001b[43m_dns_host\u001b[49m\u001b[43m,\u001b[49m\u001b[43m \u001b[49m\u001b[38;5;28;43mself\u001b[39;49m\u001b[38;5;241;43m.\u001b[39;49m\u001b[43mport\u001b[49m\u001b[43m)\u001b[49m\u001b[43m,\u001b[49m\u001b[43m \u001b[49m\u001b[38;5;28;43mself\u001b[39;49m\u001b[38;5;241;43m.\u001b[39;49m\u001b[43mtimeout\u001b[49m\u001b[43m,\u001b[49m\u001b[43m \u001b[49m\u001b[38;5;241;43m*\u001b[39;49m\u001b[38;5;241;43m*\u001b[39;49m\u001b[43mextra_kw\u001b[49m\n\u001b[0;32m    176\u001b[0m \u001b[43m    \u001b[49m\u001b[43m)\u001b[49m\n\u001b[0;32m    178\u001b[0m \u001b[38;5;28;01mexcept\u001b[39;00m SocketTimeout:\n",
      "File \u001b[1;32mC:\\repos\\anaconda3\\envs\\star_jeans\\lib\\site-packages\\urllib3\\util\\connection.py:72\u001b[0m, in \u001b[0;36mcreate_connection\u001b[1;34m(address, timeout, source_address, socket_options)\u001b[0m\n\u001b[0;32m     68\u001b[0m     \u001b[38;5;28;01mreturn\u001b[39;00m six\u001b[38;5;241m.\u001b[39mraise_from(\n\u001b[0;32m     69\u001b[0m         LocationParseError(\u001b[38;5;124mu\u001b[39m\u001b[38;5;124m\"\u001b[39m\u001b[38;5;124m'\u001b[39m\u001b[38;5;132;01m%s\u001b[39;00m\u001b[38;5;124m'\u001b[39m\u001b[38;5;124m, label empty or too long\u001b[39m\u001b[38;5;124m\"\u001b[39m \u001b[38;5;241m%\u001b[39m host), \u001b[38;5;28;01mNone\u001b[39;00m\n\u001b[0;32m     70\u001b[0m     )\n\u001b[1;32m---> 72\u001b[0m \u001b[38;5;28;01mfor\u001b[39;00m res \u001b[38;5;129;01min\u001b[39;00m \u001b[43msocket\u001b[49m\u001b[38;5;241;43m.\u001b[39;49m\u001b[43mgetaddrinfo\u001b[49m\u001b[43m(\u001b[49m\u001b[43mhost\u001b[49m\u001b[43m,\u001b[49m\u001b[43m \u001b[49m\u001b[43mport\u001b[49m\u001b[43m,\u001b[49m\u001b[43m \u001b[49m\u001b[43mfamily\u001b[49m\u001b[43m,\u001b[49m\u001b[43m \u001b[49m\u001b[43msocket\u001b[49m\u001b[38;5;241;43m.\u001b[39;49m\u001b[43mSOCK_STREAM\u001b[49m\u001b[43m)\u001b[49m:\n\u001b[0;32m     73\u001b[0m     af, socktype, proto, canonname, sa \u001b[38;5;241m=\u001b[39m res\n",
      "File \u001b[1;32mC:\\repos\\anaconda3\\envs\\star_jeans\\lib\\socket.py:918\u001b[0m, in \u001b[0;36mgetaddrinfo\u001b[1;34m(host, port, family, type, proto, flags)\u001b[0m\n\u001b[0;32m    917\u001b[0m addrlist \u001b[38;5;241m=\u001b[39m []\n\u001b[1;32m--> 918\u001b[0m \u001b[38;5;28;01mfor\u001b[39;00m res \u001b[38;5;129;01min\u001b[39;00m \u001b[43m_socket\u001b[49m\u001b[38;5;241;43m.\u001b[39;49m\u001b[43mgetaddrinfo\u001b[49m\u001b[43m(\u001b[49m\u001b[43mhost\u001b[49m\u001b[43m,\u001b[49m\u001b[43m \u001b[49m\u001b[43mport\u001b[49m\u001b[43m,\u001b[49m\u001b[43m \u001b[49m\u001b[43mfamily\u001b[49m\u001b[43m,\u001b[49m\u001b[43m \u001b[49m\u001b[38;5;28;43mtype\u001b[39;49m\u001b[43m,\u001b[49m\u001b[43m \u001b[49m\u001b[43mproto\u001b[49m\u001b[43m,\u001b[49m\u001b[43m \u001b[49m\u001b[43mflags\u001b[49m\u001b[43m)\u001b[49m:\n\u001b[0;32m    919\u001b[0m     af, socktype, proto, canonname, sa \u001b[38;5;241m=\u001b[39m res\n",
      "\u001b[1;31mgaierror\u001b[0m: [Errno 11001] getaddrinfo failed",
      "\nDuring handling of the above exception, another exception occurred:\n",
      "\u001b[1;31mNewConnectionError\u001b[0m                        Traceback (most recent call last)",
      "File \u001b[1;32mC:\\repos\\anaconda3\\envs\\star_jeans\\lib\\site-packages\\urllib3\\connectionpool.py:703\u001b[0m, in \u001b[0;36mHTTPConnectionPool.urlopen\u001b[1;34m(self, method, url, body, headers, retries, redirect, assert_same_host, timeout, pool_timeout, release_conn, chunked, body_pos, **response_kw)\u001b[0m\n\u001b[0;32m    702\u001b[0m \u001b[38;5;66;03m# Make the request on the httplib connection object.\u001b[39;00m\n\u001b[1;32m--> 703\u001b[0m httplib_response \u001b[38;5;241m=\u001b[39m \u001b[38;5;28;43mself\u001b[39;49m\u001b[38;5;241;43m.\u001b[39;49m\u001b[43m_make_request\u001b[49m\u001b[43m(\u001b[49m\n\u001b[0;32m    704\u001b[0m \u001b[43m    \u001b[49m\u001b[43mconn\u001b[49m\u001b[43m,\u001b[49m\n\u001b[0;32m    705\u001b[0m \u001b[43m    \u001b[49m\u001b[43mmethod\u001b[49m\u001b[43m,\u001b[49m\n\u001b[0;32m    706\u001b[0m \u001b[43m    \u001b[49m\u001b[43murl\u001b[49m\u001b[43m,\u001b[49m\n\u001b[0;32m    707\u001b[0m \u001b[43m    \u001b[49m\u001b[43mtimeout\u001b[49m\u001b[38;5;241;43m=\u001b[39;49m\u001b[43mtimeout_obj\u001b[49m\u001b[43m,\u001b[49m\n\u001b[0;32m    708\u001b[0m \u001b[43m    \u001b[49m\u001b[43mbody\u001b[49m\u001b[38;5;241;43m=\u001b[39;49m\u001b[43mbody\u001b[49m\u001b[43m,\u001b[49m\n\u001b[0;32m    709\u001b[0m \u001b[43m    \u001b[49m\u001b[43mheaders\u001b[49m\u001b[38;5;241;43m=\u001b[39;49m\u001b[43mheaders\u001b[49m\u001b[43m,\u001b[49m\n\u001b[0;32m    710\u001b[0m \u001b[43m    \u001b[49m\u001b[43mchunked\u001b[49m\u001b[38;5;241;43m=\u001b[39;49m\u001b[43mchunked\u001b[49m\u001b[43m,\u001b[49m\n\u001b[0;32m    711\u001b[0m \u001b[43m\u001b[49m\u001b[43m)\u001b[49m\n\u001b[0;32m    713\u001b[0m \u001b[38;5;66;03m# If we're going to release the connection in ``finally:``, then\u001b[39;00m\n\u001b[0;32m    714\u001b[0m \u001b[38;5;66;03m# the response doesn't need to know about the connection. Otherwise\u001b[39;00m\n\u001b[0;32m    715\u001b[0m \u001b[38;5;66;03m# it will also try to release it and we'll have a double-release\u001b[39;00m\n\u001b[0;32m    716\u001b[0m \u001b[38;5;66;03m# mess.\u001b[39;00m\n",
      "File \u001b[1;32mC:\\repos\\anaconda3\\envs\\star_jeans\\lib\\site-packages\\urllib3\\connectionpool.py:386\u001b[0m, in \u001b[0;36mHTTPConnectionPool._make_request\u001b[1;34m(self, conn, method, url, timeout, chunked, **httplib_request_kw)\u001b[0m\n\u001b[0;32m    385\u001b[0m \u001b[38;5;28;01mtry\u001b[39;00m:\n\u001b[1;32m--> 386\u001b[0m     \u001b[38;5;28;43mself\u001b[39;49m\u001b[38;5;241;43m.\u001b[39;49m\u001b[43m_validate_conn\u001b[49m\u001b[43m(\u001b[49m\u001b[43mconn\u001b[49m\u001b[43m)\u001b[49m\n\u001b[0;32m    387\u001b[0m \u001b[38;5;28;01mexcept\u001b[39;00m (SocketTimeout, BaseSSLError) \u001b[38;5;28;01mas\u001b[39;00m e:\n\u001b[0;32m    388\u001b[0m     \u001b[38;5;66;03m# Py2 raises this as a BaseSSLError, Py3 raises it as socket timeout.\u001b[39;00m\n",
      "File \u001b[1;32mC:\\repos\\anaconda3\\envs\\star_jeans\\lib\\site-packages\\urllib3\\connectionpool.py:1040\u001b[0m, in \u001b[0;36mHTTPSConnectionPool._validate_conn\u001b[1;34m(self, conn)\u001b[0m\n\u001b[0;32m   1039\u001b[0m \u001b[38;5;28;01mif\u001b[39;00m \u001b[38;5;129;01mnot\u001b[39;00m \u001b[38;5;28mgetattr\u001b[39m(conn, \u001b[38;5;124m\"\u001b[39m\u001b[38;5;124msock\u001b[39m\u001b[38;5;124m\"\u001b[39m, \u001b[38;5;28;01mNone\u001b[39;00m):  \u001b[38;5;66;03m# AppEngine might not have  `.sock`\u001b[39;00m\n\u001b[1;32m-> 1040\u001b[0m     \u001b[43mconn\u001b[49m\u001b[38;5;241;43m.\u001b[39;49m\u001b[43mconnect\u001b[49m\u001b[43m(\u001b[49m\u001b[43m)\u001b[49m\n\u001b[0;32m   1042\u001b[0m \u001b[38;5;28;01mif\u001b[39;00m \u001b[38;5;129;01mnot\u001b[39;00m conn\u001b[38;5;241m.\u001b[39mis_verified:\n",
      "File \u001b[1;32mC:\\repos\\anaconda3\\envs\\star_jeans\\lib\\site-packages\\urllib3\\connection.py:358\u001b[0m, in \u001b[0;36mHTTPSConnection.connect\u001b[1;34m(self)\u001b[0m\n\u001b[0;32m    356\u001b[0m \u001b[38;5;28;01mdef\u001b[39;00m \u001b[38;5;21mconnect\u001b[39m(\u001b[38;5;28mself\u001b[39m):\n\u001b[0;32m    357\u001b[0m     \u001b[38;5;66;03m# Add certificate verification\u001b[39;00m\n\u001b[1;32m--> 358\u001b[0m     conn \u001b[38;5;241m=\u001b[39m \u001b[38;5;28;43mself\u001b[39;49m\u001b[38;5;241;43m.\u001b[39;49m\u001b[43m_new_conn\u001b[49m\u001b[43m(\u001b[49m\u001b[43m)\u001b[49m\n\u001b[0;32m    359\u001b[0m     hostname \u001b[38;5;241m=\u001b[39m \u001b[38;5;28mself\u001b[39m\u001b[38;5;241m.\u001b[39mhost\n",
      "File \u001b[1;32mC:\\repos\\anaconda3\\envs\\star_jeans\\lib\\site-packages\\urllib3\\connection.py:186\u001b[0m, in \u001b[0;36mHTTPConnection._new_conn\u001b[1;34m(self)\u001b[0m\n\u001b[0;32m    185\u001b[0m \u001b[38;5;28;01mexcept\u001b[39;00m SocketError \u001b[38;5;28;01mas\u001b[39;00m e:\n\u001b[1;32m--> 186\u001b[0m     \u001b[38;5;28;01mraise\u001b[39;00m NewConnectionError(\n\u001b[0;32m    187\u001b[0m         \u001b[38;5;28mself\u001b[39m, \u001b[38;5;124m\"\u001b[39m\u001b[38;5;124mFailed to establish a new connection: \u001b[39m\u001b[38;5;132;01m%s\u001b[39;00m\u001b[38;5;124m\"\u001b[39m \u001b[38;5;241m%\u001b[39m e\n\u001b[0;32m    188\u001b[0m     )\n\u001b[0;32m    190\u001b[0m \u001b[38;5;28;01mreturn\u001b[39;00m conn\n",
      "\u001b[1;31mNewConnectionError\u001b[0m: <urllib3.connection.HTTPSConnection object at 0x000002348BC610D0>: Failed to establish a new connection: [Errno 11001] getaddrinfo failed",
      "\nDuring handling of the above exception, another exception occurred:\n",
      "\u001b[1;31mMaxRetryError\u001b[0m                             Traceback (most recent call last)",
      "File \u001b[1;32mC:\\repos\\anaconda3\\envs\\star_jeans\\lib\\site-packages\\requests\\adapters.py:440\u001b[0m, in \u001b[0;36mHTTPAdapter.send\u001b[1;34m(self, request, stream, timeout, verify, cert, proxies)\u001b[0m\n\u001b[0;32m    439\u001b[0m \u001b[38;5;28;01mif\u001b[39;00m \u001b[38;5;129;01mnot\u001b[39;00m chunked:\n\u001b[1;32m--> 440\u001b[0m     resp \u001b[38;5;241m=\u001b[39m \u001b[43mconn\u001b[49m\u001b[38;5;241;43m.\u001b[39;49m\u001b[43murlopen\u001b[49m\u001b[43m(\u001b[49m\n\u001b[0;32m    441\u001b[0m \u001b[43m        \u001b[49m\u001b[43mmethod\u001b[49m\u001b[38;5;241;43m=\u001b[39;49m\u001b[43mrequest\u001b[49m\u001b[38;5;241;43m.\u001b[39;49m\u001b[43mmethod\u001b[49m\u001b[43m,\u001b[49m\n\u001b[0;32m    442\u001b[0m \u001b[43m        \u001b[49m\u001b[43murl\u001b[49m\u001b[38;5;241;43m=\u001b[39;49m\u001b[43murl\u001b[49m\u001b[43m,\u001b[49m\n\u001b[0;32m    443\u001b[0m \u001b[43m        \u001b[49m\u001b[43mbody\u001b[49m\u001b[38;5;241;43m=\u001b[39;49m\u001b[43mrequest\u001b[49m\u001b[38;5;241;43m.\u001b[39;49m\u001b[43mbody\u001b[49m\u001b[43m,\u001b[49m\n\u001b[0;32m    444\u001b[0m \u001b[43m        \u001b[49m\u001b[43mheaders\u001b[49m\u001b[38;5;241;43m=\u001b[39;49m\u001b[43mrequest\u001b[49m\u001b[38;5;241;43m.\u001b[39;49m\u001b[43mheaders\u001b[49m\u001b[43m,\u001b[49m\n\u001b[0;32m    445\u001b[0m \u001b[43m        \u001b[49m\u001b[43mredirect\u001b[49m\u001b[38;5;241;43m=\u001b[39;49m\u001b[38;5;28;43;01mFalse\u001b[39;49;00m\u001b[43m,\u001b[49m\n\u001b[0;32m    446\u001b[0m \u001b[43m        \u001b[49m\u001b[43massert_same_host\u001b[49m\u001b[38;5;241;43m=\u001b[39;49m\u001b[38;5;28;43;01mFalse\u001b[39;49;00m\u001b[43m,\u001b[49m\n\u001b[0;32m    447\u001b[0m \u001b[43m        \u001b[49m\u001b[43mpreload_content\u001b[49m\u001b[38;5;241;43m=\u001b[39;49m\u001b[38;5;28;43;01mFalse\u001b[39;49;00m\u001b[43m,\u001b[49m\n\u001b[0;32m    448\u001b[0m \u001b[43m        \u001b[49m\u001b[43mdecode_content\u001b[49m\u001b[38;5;241;43m=\u001b[39;49m\u001b[38;5;28;43;01mFalse\u001b[39;49;00m\u001b[43m,\u001b[49m\n\u001b[0;32m    449\u001b[0m \u001b[43m        \u001b[49m\u001b[43mretries\u001b[49m\u001b[38;5;241;43m=\u001b[39;49m\u001b[38;5;28;43mself\u001b[39;49m\u001b[38;5;241;43m.\u001b[39;49m\u001b[43mmax_retries\u001b[49m\u001b[43m,\u001b[49m\n\u001b[0;32m    450\u001b[0m \u001b[43m        \u001b[49m\u001b[43mtimeout\u001b[49m\u001b[38;5;241;43m=\u001b[39;49m\u001b[43mtimeout\u001b[49m\n\u001b[0;32m    451\u001b[0m \u001b[43m    \u001b[49m\u001b[43m)\u001b[49m\n\u001b[0;32m    453\u001b[0m \u001b[38;5;66;03m# Send the request.\u001b[39;00m\n\u001b[0;32m    454\u001b[0m \u001b[38;5;28;01melse\u001b[39;00m:\n",
      "File \u001b[1;32mC:\\repos\\anaconda3\\envs\\star_jeans\\lib\\site-packages\\urllib3\\connectionpool.py:785\u001b[0m, in \u001b[0;36mHTTPConnectionPool.urlopen\u001b[1;34m(self, method, url, body, headers, retries, redirect, assert_same_host, timeout, pool_timeout, release_conn, chunked, body_pos, **response_kw)\u001b[0m\n\u001b[0;32m    783\u001b[0m     e \u001b[38;5;241m=\u001b[39m ProtocolError(\u001b[38;5;124m\"\u001b[39m\u001b[38;5;124mConnection aborted.\u001b[39m\u001b[38;5;124m\"\u001b[39m, e)\n\u001b[1;32m--> 785\u001b[0m retries \u001b[38;5;241m=\u001b[39m \u001b[43mretries\u001b[49m\u001b[38;5;241;43m.\u001b[39;49m\u001b[43mincrement\u001b[49m\u001b[43m(\u001b[49m\n\u001b[0;32m    786\u001b[0m \u001b[43m    \u001b[49m\u001b[43mmethod\u001b[49m\u001b[43m,\u001b[49m\u001b[43m \u001b[49m\u001b[43murl\u001b[49m\u001b[43m,\u001b[49m\u001b[43m \u001b[49m\u001b[43merror\u001b[49m\u001b[38;5;241;43m=\u001b[39;49m\u001b[43me\u001b[49m\u001b[43m,\u001b[49m\u001b[43m \u001b[49m\u001b[43m_pool\u001b[49m\u001b[38;5;241;43m=\u001b[39;49m\u001b[38;5;28;43mself\u001b[39;49m\u001b[43m,\u001b[49m\u001b[43m \u001b[49m\u001b[43m_stacktrace\u001b[49m\u001b[38;5;241;43m=\u001b[39;49m\u001b[43msys\u001b[49m\u001b[38;5;241;43m.\u001b[39;49m\u001b[43mexc_info\u001b[49m\u001b[43m(\u001b[49m\u001b[43m)\u001b[49m\u001b[43m[\u001b[49m\u001b[38;5;241;43m2\u001b[39;49m\u001b[43m]\u001b[49m\n\u001b[0;32m    787\u001b[0m \u001b[43m\u001b[49m\u001b[43m)\u001b[49m\n\u001b[0;32m    788\u001b[0m retries\u001b[38;5;241m.\u001b[39msleep()\n",
      "File \u001b[1;32mC:\\repos\\anaconda3\\envs\\star_jeans\\lib\\site-packages\\urllib3\\util\\retry.py:592\u001b[0m, in \u001b[0;36mRetry.increment\u001b[1;34m(self, method, url, response, error, _pool, _stacktrace)\u001b[0m\n\u001b[0;32m    591\u001b[0m \u001b[38;5;28;01mif\u001b[39;00m new_retry\u001b[38;5;241m.\u001b[39mis_exhausted():\n\u001b[1;32m--> 592\u001b[0m     \u001b[38;5;28;01mraise\u001b[39;00m MaxRetryError(_pool, url, error \u001b[38;5;129;01mor\u001b[39;00m ResponseError(cause))\n\u001b[0;32m    594\u001b[0m log\u001b[38;5;241m.\u001b[39mdebug(\u001b[38;5;124m\"\u001b[39m\u001b[38;5;124mIncremented Retry for (url=\u001b[39m\u001b[38;5;124m'\u001b[39m\u001b[38;5;132;01m%s\u001b[39;00m\u001b[38;5;124m'\u001b[39m\u001b[38;5;124m): \u001b[39m\u001b[38;5;132;01m%r\u001b[39;00m\u001b[38;5;124m\"\u001b[39m, url, new_retry)\n",
      "\u001b[1;31mMaxRetryError\u001b[0m: HTTPSConnectionPool(host='www2.hm.com', port=443): Max retries exceeded with url: /en_us/men/products/jeans.html (Caused by NewConnectionError('<urllib3.connection.HTTPSConnection object at 0x000002348BC610D0>: Failed to establish a new connection: [Errno 11001] getaddrinfo failed'))",
      "\nDuring handling of the above exception, another exception occurred:\n",
      "\u001b[1;31mConnectionError\u001b[0m                           Traceback (most recent call last)",
      "Input \u001b[1;32mIn [2]\u001b[0m, in \u001b[0;36m<cell line: 8>\u001b[1;34m()\u001b[0m\n\u001b[0;32m      5\u001b[0m url \u001b[38;5;241m=\u001b[39m \u001b[38;5;124m'\u001b[39m\u001b[38;5;124mhttps://www2.hm.com/en_us/men/products/jeans.html\u001b[39m\u001b[38;5;124m'\u001b[39m\n\u001b[0;32m      7\u001b[0m \u001b[38;5;66;03m# Request to URL\u001b[39;00m\n\u001b[1;32m----> 8\u001b[0m page \u001b[38;5;241m=\u001b[39m \u001b[43mrequests\u001b[49m\u001b[38;5;241;43m.\u001b[39;49m\u001b[43mget\u001b[49m\u001b[43m(\u001b[49m\u001b[43m \u001b[49m\u001b[43murl\u001b[49m\u001b[43m,\u001b[49m\u001b[43m \u001b[49m\u001b[43mheaders\u001b[49m\u001b[38;5;241;43m=\u001b[39;49m\u001b[43mheaders\u001b[49m\u001b[43m \u001b[49m\u001b[43m)\u001b[49m\n\u001b[0;32m     10\u001b[0m \u001b[38;5;66;03m# BeautifulSoup Object\u001b[39;00m\n\u001b[0;32m     11\u001b[0m soup \u001b[38;5;241m=\u001b[39m BeautifulSoup( page\u001b[38;5;241m.\u001b[39mtext, \u001b[38;5;124m'\u001b[39m\u001b[38;5;124mhtml.parser\u001b[39m\u001b[38;5;124m'\u001b[39m )\n",
      "File \u001b[1;32mC:\\repos\\anaconda3\\envs\\star_jeans\\lib\\site-packages\\requests\\api.py:75\u001b[0m, in \u001b[0;36mget\u001b[1;34m(url, params, **kwargs)\u001b[0m\n\u001b[0;32m     64\u001b[0m \u001b[38;5;28;01mdef\u001b[39;00m \u001b[38;5;21mget\u001b[39m(url, params\u001b[38;5;241m=\u001b[39m\u001b[38;5;28;01mNone\u001b[39;00m, \u001b[38;5;241m*\u001b[39m\u001b[38;5;241m*\u001b[39mkwargs):\n\u001b[0;32m     65\u001b[0m     \u001b[38;5;124mr\u001b[39m\u001b[38;5;124;03m\"\"\"Sends a GET request.\u001b[39;00m\n\u001b[0;32m     66\u001b[0m \n\u001b[0;32m     67\u001b[0m \u001b[38;5;124;03m    :param url: URL for the new :class:`Request` object.\u001b[39;00m\n\u001b[1;32m   (...)\u001b[0m\n\u001b[0;32m     72\u001b[0m \u001b[38;5;124;03m    :rtype: requests.Response\u001b[39;00m\n\u001b[0;32m     73\u001b[0m \u001b[38;5;124;03m    \"\"\"\u001b[39;00m\n\u001b[1;32m---> 75\u001b[0m     \u001b[38;5;28;01mreturn\u001b[39;00m \u001b[43mrequest\u001b[49m\u001b[43m(\u001b[49m\u001b[38;5;124;43m'\u001b[39;49m\u001b[38;5;124;43mget\u001b[39;49m\u001b[38;5;124;43m'\u001b[39;49m\u001b[43m,\u001b[49m\u001b[43m \u001b[49m\u001b[43murl\u001b[49m\u001b[43m,\u001b[49m\u001b[43m \u001b[49m\u001b[43mparams\u001b[49m\u001b[38;5;241;43m=\u001b[39;49m\u001b[43mparams\u001b[49m\u001b[43m,\u001b[49m\u001b[43m \u001b[49m\u001b[38;5;241;43m*\u001b[39;49m\u001b[38;5;241;43m*\u001b[39;49m\u001b[43mkwargs\u001b[49m\u001b[43m)\u001b[49m\n",
      "File \u001b[1;32mC:\\repos\\anaconda3\\envs\\star_jeans\\lib\\site-packages\\requests\\api.py:61\u001b[0m, in \u001b[0;36mrequest\u001b[1;34m(method, url, **kwargs)\u001b[0m\n\u001b[0;32m     57\u001b[0m \u001b[38;5;66;03m# By using the 'with' statement we are sure the session is closed, thus we\u001b[39;00m\n\u001b[0;32m     58\u001b[0m \u001b[38;5;66;03m# avoid leaving sockets open which can trigger a ResourceWarning in some\u001b[39;00m\n\u001b[0;32m     59\u001b[0m \u001b[38;5;66;03m# cases, and look like a memory leak in others.\u001b[39;00m\n\u001b[0;32m     60\u001b[0m \u001b[38;5;28;01mwith\u001b[39;00m sessions\u001b[38;5;241m.\u001b[39mSession() \u001b[38;5;28;01mas\u001b[39;00m session:\n\u001b[1;32m---> 61\u001b[0m     \u001b[38;5;28;01mreturn\u001b[39;00m \u001b[43msession\u001b[49m\u001b[38;5;241;43m.\u001b[39;49m\u001b[43mrequest\u001b[49m\u001b[43m(\u001b[49m\u001b[43mmethod\u001b[49m\u001b[38;5;241;43m=\u001b[39;49m\u001b[43mmethod\u001b[49m\u001b[43m,\u001b[49m\u001b[43m \u001b[49m\u001b[43murl\u001b[49m\u001b[38;5;241;43m=\u001b[39;49m\u001b[43murl\u001b[49m\u001b[43m,\u001b[49m\u001b[43m \u001b[49m\u001b[38;5;241;43m*\u001b[39;49m\u001b[38;5;241;43m*\u001b[39;49m\u001b[43mkwargs\u001b[49m\u001b[43m)\u001b[49m\n",
      "File \u001b[1;32mC:\\repos\\anaconda3\\envs\\star_jeans\\lib\\site-packages\\requests\\sessions.py:529\u001b[0m, in \u001b[0;36mSession.request\u001b[1;34m(self, method, url, params, data, headers, cookies, files, auth, timeout, allow_redirects, proxies, hooks, stream, verify, cert, json)\u001b[0m\n\u001b[0;32m    524\u001b[0m send_kwargs \u001b[38;5;241m=\u001b[39m {\n\u001b[0;32m    525\u001b[0m     \u001b[38;5;124m'\u001b[39m\u001b[38;5;124mtimeout\u001b[39m\u001b[38;5;124m'\u001b[39m: timeout,\n\u001b[0;32m    526\u001b[0m     \u001b[38;5;124m'\u001b[39m\u001b[38;5;124mallow_redirects\u001b[39m\u001b[38;5;124m'\u001b[39m: allow_redirects,\n\u001b[0;32m    527\u001b[0m }\n\u001b[0;32m    528\u001b[0m send_kwargs\u001b[38;5;241m.\u001b[39mupdate(settings)\n\u001b[1;32m--> 529\u001b[0m resp \u001b[38;5;241m=\u001b[39m \u001b[38;5;28;43mself\u001b[39;49m\u001b[38;5;241;43m.\u001b[39;49m\u001b[43msend\u001b[49m\u001b[43m(\u001b[49m\u001b[43mprep\u001b[49m\u001b[43m,\u001b[49m\u001b[43m \u001b[49m\u001b[38;5;241;43m*\u001b[39;49m\u001b[38;5;241;43m*\u001b[39;49m\u001b[43msend_kwargs\u001b[49m\u001b[43m)\u001b[49m\n\u001b[0;32m    531\u001b[0m \u001b[38;5;28;01mreturn\u001b[39;00m resp\n",
      "File \u001b[1;32mC:\\repos\\anaconda3\\envs\\star_jeans\\lib\\site-packages\\requests\\sessions.py:645\u001b[0m, in \u001b[0;36mSession.send\u001b[1;34m(self, request, **kwargs)\u001b[0m\n\u001b[0;32m    642\u001b[0m start \u001b[38;5;241m=\u001b[39m preferred_clock()\n\u001b[0;32m    644\u001b[0m \u001b[38;5;66;03m# Send the request\u001b[39;00m\n\u001b[1;32m--> 645\u001b[0m r \u001b[38;5;241m=\u001b[39m \u001b[43madapter\u001b[49m\u001b[38;5;241;43m.\u001b[39;49m\u001b[43msend\u001b[49m\u001b[43m(\u001b[49m\u001b[43mrequest\u001b[49m\u001b[43m,\u001b[49m\u001b[43m \u001b[49m\u001b[38;5;241;43m*\u001b[39;49m\u001b[38;5;241;43m*\u001b[39;49m\u001b[43mkwargs\u001b[49m\u001b[43m)\u001b[49m\n\u001b[0;32m    647\u001b[0m \u001b[38;5;66;03m# Total elapsed time of the request (approximately)\u001b[39;00m\n\u001b[0;32m    648\u001b[0m elapsed \u001b[38;5;241m=\u001b[39m preferred_clock() \u001b[38;5;241m-\u001b[39m start\n",
      "File \u001b[1;32mC:\\repos\\anaconda3\\envs\\star_jeans\\lib\\site-packages\\requests\\adapters.py:519\u001b[0m, in \u001b[0;36mHTTPAdapter.send\u001b[1;34m(self, request, stream, timeout, verify, cert, proxies)\u001b[0m\n\u001b[0;32m    515\u001b[0m     \u001b[38;5;28;01mif\u001b[39;00m \u001b[38;5;28misinstance\u001b[39m(e\u001b[38;5;241m.\u001b[39mreason, _SSLError):\n\u001b[0;32m    516\u001b[0m         \u001b[38;5;66;03m# This branch is for urllib3 v1.22 and later.\u001b[39;00m\n\u001b[0;32m    517\u001b[0m         \u001b[38;5;28;01mraise\u001b[39;00m SSLError(e, request\u001b[38;5;241m=\u001b[39mrequest)\n\u001b[1;32m--> 519\u001b[0m     \u001b[38;5;28;01mraise\u001b[39;00m \u001b[38;5;167;01mConnectionError\u001b[39;00m(e, request\u001b[38;5;241m=\u001b[39mrequest)\n\u001b[0;32m    521\u001b[0m \u001b[38;5;28;01mexcept\u001b[39;00m ClosedPoolError \u001b[38;5;28;01mas\u001b[39;00m e:\n\u001b[0;32m    522\u001b[0m     \u001b[38;5;28;01mraise\u001b[39;00m \u001b[38;5;167;01mConnectionError\u001b[39;00m(e, request\u001b[38;5;241m=\u001b[39mrequest)\n",
      "\u001b[1;31mConnectionError\u001b[0m: HTTPSConnectionPool(host='www2.hm.com', port=443): Max retries exceeded with url: /en_us/men/products/jeans.html (Caused by NewConnectionError('<urllib3.connection.HTTPSConnection object at 0x000002348BC610D0>: Failed to establish a new connection: [Errno 11001] getaddrinfo failed'))"
     ]
    }
   ],
   "source": [
    "# Parameters\n",
    "headers = {'User-Agent': 'Mozilla/5.0 (Macintosh; Intel Mac OS X 10_11_5) AppleWebKit/537.36 (KHTML, like Gecko) Chrome/50.0.2661.102 Safari/537.36'}\n",
    "\n",
    "# URL\n",
    "url = 'https://www2.hm.com/en_us/men/products/jeans.html'\n",
    "\n",
    "# Request to URL\n",
    "page = requests.get( url, headers=headers )\n",
    "\n",
    "# BeautifulSoup Object\n",
    "soup = BeautifulSoup( page.text, 'html.parser' )\n",
    "\n",
    "# Pagination\n",
    "total_item = soup.find_all( 'h2', class_='load-more-heading' )[0].get( 'data-total' )\n",
    "page_number = math.ceil( int( total_item ) / 36 )\n",
    "url02 = url + '?page-size=' + str( int( page_number*36 ) )\n",
    "\n",
    "# Request to URL02\n",
    "page = requests.get( url02, headers=headers )\n",
    "\n",
    "# BeautifulSoup Object\n",
    "soup = BeautifulSoup( page.text, 'html.parser' )\n",
    "\n",
    "# ===================================== Product Data =====================================\n",
    "products = soup.find( 'ul', class_='products-listing small' )\n",
    "product_list = products.find_all( 'article', class_='hm-product-item' )\n",
    "\n",
    "# product id\n",
    "product_id = [p.get('data-articlecode') for p in product_list]\n",
    "\n",
    "# product category\n",
    "product_category = [p.get('data-category') for p in product_list]\n",
    "\n",
    "# product name\n",
    "product_list = products.find_all( 'a', class_=\"link\" )\n",
    "product_name = [p.get_text() for p in product_list]\n",
    "\n",
    "# product price\n",
    "product_list = products.find_all( 'span', class_=\"price regular\" )\n",
    "product_price = [p.get_text() for p in product_list]\n",
    "\n",
    "data = pd.DataFrame( [product_id, product_category, product_name, product_price] ).T\n",
    "data.columns = ['product_id', 'product_category', 'product_name', 'product_price']"
   ]
  },
  {
   "cell_type": "code",
   "execution_count": 3,
   "id": "6c9c98f2",
   "metadata": {},
   "outputs": [
    {
     "ename": "NameError",
     "evalue": "name 'data' is not defined",
     "output_type": "error",
     "traceback": [
      "\u001b[1;31m---------------------------------------------------------------------------\u001b[0m",
      "\u001b[1;31mNameError\u001b[0m                                 Traceback (most recent call last)",
      "Input \u001b[1;32mIn [3]\u001b[0m, in \u001b[0;36m<cell line: 1>\u001b[1;34m()\u001b[0m\n\u001b[1;32m----> 1\u001b[0m \u001b[43mdata\u001b[49m\u001b[38;5;241m.\u001b[39mshape\n",
      "\u001b[1;31mNameError\u001b[0m: name 'data' is not defined"
     ]
    }
   ],
   "source": [
    "data.shape"
   ]
  },
  {
   "cell_type": "markdown",
   "id": "78dac4bb",
   "metadata": {},
   "source": [
    "## 2.1 - Data Collection by Product"
   ]
  },
  {
   "cell_type": "code",
   "execution_count": 10,
   "id": "654e522a",
   "metadata": {},
   "outputs": [
    {
     "name": "stdout",
     "output_type": "stream",
     "text": [
      "Product: https://www2.hm.com/en_us/productpage.0690449051.html\n",
      "Color: https://www2.hm.com/en_us/productpage.0690449051.html\n",
      "Product: https://www2.hm.com/en_us/productpage.1004199003.html\n",
      "Color: https://www2.hm.com/en_us/productpage.1004199003.html\n",
      "Product: https://www2.hm.com/en_us/productpage.0690449043.html\n",
      "Color: https://www2.hm.com/en_us/productpage.0690449043.html\n",
      "Product: https://www2.hm.com/en_us/productpage.0985159001.html\n",
      "Color: https://www2.hm.com/en_us/productpage.0985159001.html\n",
      "Product: https://www2.hm.com/en_us/productpage.0690449056.html\n",
      "Color: https://www2.hm.com/en_us/productpage.0690449056.html\n",
      "Product: https://www2.hm.com/en_us/productpage.1004199001.html\n",
      "Color: https://www2.hm.com/en_us/productpage.1004199001.html\n",
      "Product: https://www2.hm.com/en_us/productpage.0690449022.html\n",
      "Color: https://www2.hm.com/en_us/productpage.0690449022.html\n",
      "Product: https://www2.hm.com/en_us/productpage.1024256001.html\n",
      "Color: https://www2.hm.com/en_us/productpage.1024256001.html\n",
      "Product: https://www2.hm.com/en_us/productpage.1004199005.html\n",
      "Color: https://www2.hm.com/en_us/productpage.1004199005.html\n",
      "Product: https://www2.hm.com/en_us/productpage.0938875012.html\n",
      "Color: https://www2.hm.com/en_us/productpage.0938875012.html\n",
      "Product: https://www2.hm.com/en_us/productpage.1024256005.html\n",
      "Color: https://www2.hm.com/en_us/productpage.1024256005.html\n",
      "Product: https://www2.hm.com/en_us/productpage.1004199004.html\n",
      "Color: https://www2.hm.com/en_us/productpage.1004199004.html\n",
      "Product: https://www2.hm.com/en_us/productpage.1004199002.html\n",
      "Color: https://www2.hm.com/en_us/productpage.1004199002.html\n",
      "Product: https://www2.hm.com/en_us/productpage.1024256002.html\n",
      "Color: https://www2.hm.com/en_us/productpage.1024256002.html\n",
      "Product: https://www2.hm.com/en_us/productpage.1008549006.html\n",
      "Color: https://www2.hm.com/en_us/productpage.1008549006.html\n",
      "Product: https://www2.hm.com/en_us/productpage.1024256007.html\n",
      "Color: https://www2.hm.com/en_us/productpage.1024256007.html\n",
      "Product: https://www2.hm.com/en_us/productpage.0927964002.html\n",
      "Color: https://www2.hm.com/en_us/productpage.0927964002.html\n",
      "Product: https://www2.hm.com/en_us/productpage.0979945001.html\n",
      "Color: https://www2.hm.com/en_us/productpage.0979945001.html\n",
      "Product: https://www2.hm.com/en_us/productpage.0985159004.html\n",
      "Color: https://www2.hm.com/en_us/productpage.0985159004.html\n",
      "Product: https://www2.hm.com/en_us/productpage.0985159008.html\n",
      "Color: https://www2.hm.com/en_us/productpage.0985159008.html\n",
      "Product: https://www2.hm.com/en_us/productpage.1027852007.html\n",
      "Color: https://www2.hm.com/en_us/productpage.1027852007.html\n",
      "Product: https://www2.hm.com/en_us/productpage.1008549002.html\n",
      "Color: https://www2.hm.com/en_us/productpage.1008549002.html\n",
      "Product: https://www2.hm.com/en_us/productpage.1008549003.html\n",
      "Color: https://www2.hm.com/en_us/productpage.1008549003.html\n",
      "Product: https://www2.hm.com/en_us/productpage.0985159002.html\n",
      "Color: https://www2.hm.com/en_us/productpage.0985159002.html\n",
      "Product: https://www2.hm.com/en_us/productpage.1024256004.html\n",
      "Color: https://www2.hm.com/en_us/productpage.1024256004.html\n",
      "Product: https://www2.hm.com/en_us/productpage.0985159007.html\n",
      "Color: https://www2.hm.com/en_us/productpage.0985159007.html\n",
      "Product: https://www2.hm.com/en_us/productpage.0985159005.html\n",
      "Color: https://www2.hm.com/en_us/productpage.0985159005.html\n",
      "Product: https://www2.hm.com/en_us/productpage.1024256006.html\n",
      "Color: https://www2.hm.com/en_us/productpage.1024256006.html\n",
      "Product: https://www2.hm.com/en_us/productpage.1024256003.html\n",
      "Color: https://www2.hm.com/en_us/productpage.1024256003.html\n",
      "Product: https://www2.hm.com/en_us/productpage.1008549001.html\n",
      "Color: https://www2.hm.com/en_us/productpage.1008549001.html\n",
      "Product: https://www2.hm.com/en_us/productpage.1013317010.html\n",
      "Color: https://www2.hm.com/en_us/productpage.1013317010.html\n",
      "Product: https://www2.hm.com/en_us/productpage.0985159006.html\n",
      "Color: https://www2.hm.com/en_us/productpage.0985159006.html\n",
      "Product: https://www2.hm.com/en_us/productpage.0938875010.html\n",
      "Color: https://www2.hm.com/en_us/productpage.0938875010.html\n",
      "Product: https://www2.hm.com/en_us/productpage.1024256008.html\n",
      "Color: https://www2.hm.com/en_us/productpage.1024256008.html\n",
      "Product: https://www2.hm.com/en_us/productpage.0690449036.html\n",
      "Product: https://www2.hm.com/en_us/productpage.0938875007.html\n",
      "Color: https://www2.hm.com/en_us/productpage.0938875007.html\n",
      "Product: https://www2.hm.com/en_us/productpage.0927964013.html\n",
      "Color: https://www2.hm.com/en_us/productpage.0927964013.html\n",
      "Product: https://www2.hm.com/en_us/productpage.1013317008.html\n",
      "Color: https://www2.hm.com/en_us/productpage.1013317008.html\n",
      "Product: https://www2.hm.com/en_us/productpage.1008549004.html\n",
      "Color: https://www2.hm.com/en_us/productpage.1008549004.html\n",
      "Product: https://www2.hm.com/en_us/productpage.1008110001.html\n",
      "Color: https://www2.hm.com/en_us/productpage.1008110001.html\n"
     ]
    },
    {
     "ename": "IndexError",
     "evalue": "single positional indexer is out-of-bounds",
     "output_type": "error",
     "traceback": [
      "\u001b[1;31m---------------------------------------------------------------------------\u001b[0m",
      "\u001b[1;31mIndexError\u001b[0m                                Traceback (most recent call last)",
      "Input \u001b[1;32mIn [10]\u001b[0m, in \u001b[0;36m<cell line: 9>\u001b[1;34m()\u001b[0m\n\u001b[0;32m     56\u001b[0m \u001b[38;5;66;03m# rename dataframe\u001b[39;00m\n\u001b[0;32m     57\u001b[0m df_composition \u001b[38;5;241m=\u001b[39m pd\u001b[38;5;241m.\u001b[39mDataFrame( product_composition )\u001b[38;5;241m.\u001b[39mT\n\u001b[1;32m---> 58\u001b[0m df_composition\u001b[38;5;241m.\u001b[39mcolumns \u001b[38;5;241m=\u001b[39m \u001b[43mdf_composition\u001b[49m\u001b[38;5;241;43m.\u001b[39;49m\u001b[43miloc\u001b[49m\u001b[43m[\u001b[49m\u001b[38;5;241;43m0\u001b[39;49m\u001b[43m]\u001b[49m\n\u001b[0;32m     60\u001b[0m \u001b[38;5;66;03m# delete first row & complete where none\u001b[39;00m\n\u001b[0;32m     61\u001b[0m df_composition \u001b[38;5;241m=\u001b[39m df_composition\u001b[38;5;241m.\u001b[39miloc[\u001b[38;5;241m1\u001b[39m:]\u001b[38;5;241m.\u001b[39mfillna( method\u001b[38;5;241m=\u001b[39m\u001b[38;5;124m'\u001b[39m\u001b[38;5;124mffill\u001b[39m\u001b[38;5;124m'\u001b[39m )\n",
      "File \u001b[1;32mC:\\repos\\anaconda3\\envs\\star_jeans\\lib\\site-packages\\pandas\\core\\indexing.py:967\u001b[0m, in \u001b[0;36m_LocationIndexer.__getitem__\u001b[1;34m(self, key)\u001b[0m\n\u001b[0;32m    964\u001b[0m axis \u001b[38;5;241m=\u001b[39m \u001b[38;5;28mself\u001b[39m\u001b[38;5;241m.\u001b[39maxis \u001b[38;5;129;01mor\u001b[39;00m \u001b[38;5;241m0\u001b[39m\n\u001b[0;32m    966\u001b[0m maybe_callable \u001b[38;5;241m=\u001b[39m com\u001b[38;5;241m.\u001b[39mapply_if_callable(key, \u001b[38;5;28mself\u001b[39m\u001b[38;5;241m.\u001b[39mobj)\n\u001b[1;32m--> 967\u001b[0m \u001b[38;5;28;01mreturn\u001b[39;00m \u001b[38;5;28;43mself\u001b[39;49m\u001b[38;5;241;43m.\u001b[39;49m\u001b[43m_getitem_axis\u001b[49m\u001b[43m(\u001b[49m\u001b[43mmaybe_callable\u001b[49m\u001b[43m,\u001b[49m\u001b[43m \u001b[49m\u001b[43maxis\u001b[49m\u001b[38;5;241;43m=\u001b[39;49m\u001b[43maxis\u001b[49m\u001b[43m)\u001b[49m\n",
      "File \u001b[1;32mC:\\repos\\anaconda3\\envs\\star_jeans\\lib\\site-packages\\pandas\\core\\indexing.py:1520\u001b[0m, in \u001b[0;36m_iLocIndexer._getitem_axis\u001b[1;34m(self, key, axis)\u001b[0m\n\u001b[0;32m   1517\u001b[0m     \u001b[38;5;28;01mraise\u001b[39;00m \u001b[38;5;167;01mTypeError\u001b[39;00m(\u001b[38;5;124m\"\u001b[39m\u001b[38;5;124mCannot index by location index with a non-integer key\u001b[39m\u001b[38;5;124m\"\u001b[39m)\n\u001b[0;32m   1519\u001b[0m \u001b[38;5;66;03m# validate the location\u001b[39;00m\n\u001b[1;32m-> 1520\u001b[0m \u001b[38;5;28;43mself\u001b[39;49m\u001b[38;5;241;43m.\u001b[39;49m\u001b[43m_validate_integer\u001b[49m\u001b[43m(\u001b[49m\u001b[43mkey\u001b[49m\u001b[43m,\u001b[49m\u001b[43m \u001b[49m\u001b[43maxis\u001b[49m\u001b[43m)\u001b[49m\n\u001b[0;32m   1522\u001b[0m \u001b[38;5;28;01mreturn\u001b[39;00m \u001b[38;5;28mself\u001b[39m\u001b[38;5;241m.\u001b[39mobj\u001b[38;5;241m.\u001b[39m_ixs(key, axis\u001b[38;5;241m=\u001b[39maxis)\n",
      "File \u001b[1;32mC:\\repos\\anaconda3\\envs\\star_jeans\\lib\\site-packages\\pandas\\core\\indexing.py:1452\u001b[0m, in \u001b[0;36m_iLocIndexer._validate_integer\u001b[1;34m(self, key, axis)\u001b[0m\n\u001b[0;32m   1450\u001b[0m len_axis \u001b[38;5;241m=\u001b[39m \u001b[38;5;28mlen\u001b[39m(\u001b[38;5;28mself\u001b[39m\u001b[38;5;241m.\u001b[39mobj\u001b[38;5;241m.\u001b[39m_get_axis(axis))\n\u001b[0;32m   1451\u001b[0m \u001b[38;5;28;01mif\u001b[39;00m key \u001b[38;5;241m>\u001b[39m\u001b[38;5;241m=\u001b[39m len_axis \u001b[38;5;129;01mor\u001b[39;00m key \u001b[38;5;241m<\u001b[39m \u001b[38;5;241m-\u001b[39mlen_axis:\n\u001b[1;32m-> 1452\u001b[0m     \u001b[38;5;28;01mraise\u001b[39;00m \u001b[38;5;167;01mIndexError\u001b[39;00m(\u001b[38;5;124m\"\u001b[39m\u001b[38;5;124msingle positional indexer is out-of-bounds\u001b[39m\u001b[38;5;124m\"\u001b[39m)\n",
      "\u001b[1;31mIndexError\u001b[0m: single positional indexer is out-of-bounds"
     ]
    }
   ],
   "source": [
    "# empty dataframe\n",
    "df_compositions = pd.DataFrame()\n",
    "\n",
    "# unique columns for all products\n",
    "aux = []\n",
    "\n",
    "df_pattern = pd.DataFrame( columns=['Art. No.', 'Composition', 'Fit'] )\n",
    "\n",
    "for i in range(len(data)):\n",
    "  \n",
    "    # API requests\n",
    "    url = 'https://www2.hm.com/en_us/productpage.' + data.loc[i, 'product_id'] + '.html'\n",
    "    print( 'Product: {}'.format( url ) )\n",
    "\n",
    "    page = requests.get( url, headers=headers )\n",
    "\n",
    "    # Beautiful Soup Object\n",
    "    soup = BeautifulSoup( page.text, 'html.parser' )\n",
    "\n",
    "    # ================================= color name =========================================\n",
    "    product_list = soup.find_all( 'a', class_='filter-option miniature active' ) + soup.find_all( 'a', class_='filter-option miniature ' )\n",
    "    \n",
    "    # color name\n",
    "    color_name = [p.get( 'data-color' ) for p in product_list]\n",
    "\n",
    "    # product id\n",
    "    product_id = [p.get( 'data-articlecode' ) for p in product_list]\n",
    "\n",
    "    df_color = pd.DataFrame( [product_id, color_name] ).T\n",
    "    df_color.columns = ['product_id', 'color_name']\n",
    "\n",
    "    for j in range( len( df_color ) ):\n",
    "\n",
    "        # API requests\n",
    "        url = 'https://www2.hm.com/en_us/productpage.' + df_color.loc[j, 'product_id'] + '.html'\n",
    "\n",
    "        print( 'Color: {}'.format( url ) )\n",
    "\n",
    "        page = requests.get( url, headers=headers )\n",
    "\n",
    "        # Beautiful Soup Object\n",
    "        soup = BeautifulSoup( page.text, 'html.parser' )\n",
    "\n",
    "        # ============================== Product Name ==========================================\n",
    "        product_name = soup.find_all( 'h1', class_='primary product-item-headline' )\n",
    "        product_name = product_name[0].get_text()\n",
    "      \n",
    "        # ============================== Product Price ==========================================\n",
    "        product_price = soup.find_all( 'div', class_='primary-row product-item-price' )\n",
    "        product_price = re.findall( r'\\d+\\.?\\d+', product_price[0].get_text() )[0]\n",
    "\n",
    "        # =============================== composition ==========================================\n",
    "        product_composition_list = soup.find_all( 'div', class_='details-attributes-list-item' )\n",
    "        product_composition = [list( filter( None, p.get_text().split( '\\n' ) ) ) for p in product_composition_list]\n",
    "\n",
    "        # rename dataframe\n",
    "        df_composition = pd.DataFrame( product_composition ).T\n",
    "        df_composition.columns = df_composition.iloc[0]\n",
    "\n",
    "        # delete first row & complete where none\n",
    "        df_composition = df_composition.iloc[1:].fillna( method='ffill' )\n",
    "\n",
    "        # remove pocket, pocket lining, shell and lining\n",
    "        df_composition['Composition'] = df_composition['Composition'].replace( 'Pocket: ', '', regex=True )\n",
    "        df_composition['Composition'] = df_composition['Composition'].replace( 'Pocket lining: ', '', regex=True )\n",
    "        df_composition['Composition'] = df_composition['Composition'].replace( 'Shell: ', '', regex=True )\n",
    "        df_composition['Composition'] = df_composition['Composition'].replace( 'Lining: ', '', regex=True )\n",
    "\n",
    "        # guarantee the same number of columns\n",
    "        df_composition = pd.concat( [df_pattern, df_composition], axis=0 )\n",
    "\n",
    "        # deleting unnecessary columns\n",
    "        df_composition = df_composition.drop(df_composition.iloc[:, 3:], axis=1)\n",
    "\n",
    "        # rename columns\n",
    "        df_composition.columns = ['product_id', 'composition', 'fit']\n",
    "        df_composition['product_name'] = product_name\n",
    "        df_composition['product_price'] = product_price\n",
    "      \n",
    "        # keep new columns if it shows up\n",
    "        aux = aux + df_composition.columns.tolist()\n",
    "\n",
    "        # merge df_composition + df_color\n",
    "        df_composition = pd.merge( df_composition, df_color, how='left', on='product_id' )\n",
    "\n",
    "        # all products\n",
    "        df_compositions = pd.concat( [df_compositions , df_composition], axis=0 )\n",
    "\n",
    "# Join Showroom data + Details\n",
    "df_compositions['style_id'] = df_compositions['product_id'].apply( lambda x: x[:-3] )\n",
    "df_compositions['color_id'] = df_compositions['product_id'].apply( lambda x: x[-3:] )\n",
    "\n",
    "# scrapy datetime\n",
    "df_compositions['scrapy_datetime'] = datetime.now().strftime('%Y-%m-%d %H:%M:%S')"
   ]
  },
  {
   "cell_type": "code",
   "execution_count": 11,
   "id": "0240fe89",
   "metadata": {},
   "outputs": [
    {
     "data": {
      "text/plain": [
       "(266, 6)"
      ]
     },
     "execution_count": 11,
     "metadata": {},
     "output_type": "execute_result"
    }
   ],
   "source": [
    "df_compositions.shape"
   ]
  },
  {
   "cell_type": "markdown",
   "id": "461cfe41",
   "metadata": {},
   "source": [
    "# 3 - Data Cleaning"
   ]
  },
  {
   "cell_type": "code",
   "execution_count": 12,
   "id": "eb0ddd94",
   "metadata": {},
   "outputs": [
    {
     "ename": "KeyError",
     "evalue": "Index(['color_id', 'scrapy_datetime', 'style_id'], dtype='object')",
     "output_type": "error",
     "traceback": [
      "\u001b[1;31m---------------------------------------------------------------------------\u001b[0m",
      "\u001b[1;31mKeyError\u001b[0m                                  Traceback (most recent call last)",
      "Input \u001b[1;32mIn [12]\u001b[0m, in \u001b[0;36m<cell line: 27>\u001b[1;34m()\u001b[0m\n\u001b[0;32m     17\u001b[0m df_data[\u001b[38;5;124m'\u001b[39m\u001b[38;5;124mfit\u001b[39m\u001b[38;5;124m'\u001b[39m] \u001b[38;5;241m=\u001b[39m df_data[\u001b[38;5;124m'\u001b[39m\u001b[38;5;124mfit\u001b[39m\u001b[38;5;124m'\u001b[39m]\u001b[38;5;241m.\u001b[39mstr\u001b[38;5;241m.\u001b[39mreplace( \u001b[38;5;124m'\u001b[39m\u001b[38;5;124m \u001b[39m\u001b[38;5;124m'\u001b[39m,\u001b[38;5;124m'\u001b[39m\u001b[38;5;124m_\u001b[39m\u001b[38;5;124m'\u001b[39m )\u001b[38;5;241m.\u001b[39mstr\u001b[38;5;241m.\u001b[39mlower()\n\u001b[0;32m     19\u001b[0m \u001b[38;5;66;03m# size\u001b[39;00m\n\u001b[0;32m     20\u001b[0m \u001b[38;5;66;03m#data['size_number'] = data['size'].apply( lambda x: re.search( '\\d{3}cm', x ).group(0) if pd.notnull( x ) else x)\u001b[39;00m\n\u001b[0;32m     21\u001b[0m \u001b[38;5;66;03m#data['size_number'] = data['size_number'].apply( lambda x: re.search( '\\d+', x ).group(0) if pd.notnull( x ) else x)\u001b[39;00m\n\u001b[1;32m   (...)\u001b[0m\n\u001b[0;32m     25\u001b[0m \n\u001b[0;32m     26\u001b[0m \u001b[38;5;66;03m# drop duplicates\u001b[39;00m\n\u001b[1;32m---> 27\u001b[0m df_data \u001b[38;5;241m=\u001b[39m \u001b[43mdf_data\u001b[49m\u001b[38;5;241;43m.\u001b[39;49m\u001b[43mdrop_duplicates\u001b[49m\u001b[43m(\u001b[49m\u001b[43m \u001b[49m\u001b[43msubset\u001b[49m\u001b[38;5;241;43m=\u001b[39;49m\u001b[43m[\u001b[49m\u001b[38;5;124;43m'\u001b[39;49m\u001b[38;5;124;43mproduct_id\u001b[39;49m\u001b[38;5;124;43m'\u001b[39;49m\u001b[43m,\u001b[49m\u001b[43m \u001b[49m\u001b[38;5;124;43m'\u001b[39;49m\u001b[38;5;124;43mcomposition\u001b[39;49m\u001b[38;5;124;43m'\u001b[39;49m\u001b[43m,\u001b[49m\u001b[43m \u001b[49m\u001b[38;5;124;43m'\u001b[39;49m\u001b[38;5;124;43mfit\u001b[39;49m\u001b[38;5;124;43m'\u001b[39;49m\u001b[43m,\u001b[49m\u001b[43m \u001b[49m\u001b[38;5;124;43m'\u001b[39;49m\u001b[38;5;124;43mproduct_name\u001b[39;49m\u001b[38;5;124;43m'\u001b[39;49m\u001b[43m,\u001b[49m\u001b[43m \u001b[49m\u001b[38;5;124;43m'\u001b[39;49m\u001b[38;5;124;43mproduct_price\u001b[39;49m\u001b[38;5;124;43m'\u001b[39;49m\u001b[43m,\u001b[49m\u001b[43m \u001b[49m\u001b[38;5;124;43m'\u001b[39;49m\u001b[38;5;124;43mcolor_name\u001b[39;49m\u001b[38;5;124;43m'\u001b[39;49m\u001b[43m,\u001b[49m\u001b[43m \u001b[49m\u001b[38;5;124;43m'\u001b[39;49m\u001b[38;5;124;43mstyle_id\u001b[39;49m\u001b[38;5;124;43m'\u001b[39;49m\u001b[43m,\u001b[49m\u001b[43m \u001b[49m\u001b[38;5;124;43m'\u001b[39;49m\u001b[38;5;124;43mcolor_id\u001b[39;49m\u001b[38;5;124;43m'\u001b[39;49m\u001b[43m,\u001b[49m\u001b[43m \u001b[49m\u001b[38;5;124;43m'\u001b[39;49m\u001b[38;5;124;43mscrapy_datetime\u001b[39;49m\u001b[38;5;124;43m'\u001b[39;49m\u001b[43m]\u001b[49m\u001b[43m,\u001b[49m\u001b[43m \u001b[49m\u001b[43mkeep\u001b[49m\u001b[38;5;241;43m=\u001b[39;49m\u001b[38;5;124;43m'\u001b[39;49m\u001b[38;5;124;43mlast\u001b[39;49m\u001b[38;5;124;43m'\u001b[39;49m\u001b[43m \u001b[49m\u001b[43m)\u001b[49m\n\u001b[0;32m     29\u001b[0m \u001b[38;5;66;03m# reset index\u001b[39;00m\n\u001b[0;32m     30\u001b[0m \u001b[38;5;66;03m#data = data.reset_index( drop=True )\u001b[39;00m\n\u001b[0;32m     31\u001b[0m \n\u001b[0;32m     32\u001b[0m \u001b[38;5;66;03m# break composition by comma\u001b[39;00m\n\u001b[0;32m     33\u001b[0m df1 \u001b[38;5;241m=\u001b[39m df_data[\u001b[38;5;124m'\u001b[39m\u001b[38;5;124mcomposition\u001b[39m\u001b[38;5;124m'\u001b[39m]\u001b[38;5;241m.\u001b[39mstr\u001b[38;5;241m.\u001b[39msplit( \u001b[38;5;124m'\u001b[39m\u001b[38;5;124m,\u001b[39m\u001b[38;5;124m'\u001b[39m, expand\u001b[38;5;241m=\u001b[39m\u001b[38;5;28;01mTrue\u001b[39;00m )\u001b[38;5;241m.\u001b[39mreset_index(drop\u001b[38;5;241m=\u001b[39m\u001b[38;5;28;01mTrue\u001b[39;00m)\n",
      "File \u001b[1;32mC:\\repos\\anaconda3\\envs\\star_jeans\\lib\\site-packages\\pandas\\util\\_decorators.py:311\u001b[0m, in \u001b[0;36mdeprecate_nonkeyword_arguments.<locals>.decorate.<locals>.wrapper\u001b[1;34m(*args, **kwargs)\u001b[0m\n\u001b[0;32m    305\u001b[0m \u001b[38;5;28;01mif\u001b[39;00m \u001b[38;5;28mlen\u001b[39m(args) \u001b[38;5;241m>\u001b[39m num_allow_args:\n\u001b[0;32m    306\u001b[0m     warnings\u001b[38;5;241m.\u001b[39mwarn(\n\u001b[0;32m    307\u001b[0m         msg\u001b[38;5;241m.\u001b[39mformat(arguments\u001b[38;5;241m=\u001b[39marguments),\n\u001b[0;32m    308\u001b[0m         \u001b[38;5;167;01mFutureWarning\u001b[39;00m,\n\u001b[0;32m    309\u001b[0m         stacklevel\u001b[38;5;241m=\u001b[39mstacklevel,\n\u001b[0;32m    310\u001b[0m     )\n\u001b[1;32m--> 311\u001b[0m \u001b[38;5;28;01mreturn\u001b[39;00m \u001b[43mfunc\u001b[49m\u001b[43m(\u001b[49m\u001b[38;5;241;43m*\u001b[39;49m\u001b[43margs\u001b[49m\u001b[43m,\u001b[49m\u001b[43m \u001b[49m\u001b[38;5;241;43m*\u001b[39;49m\u001b[38;5;241;43m*\u001b[39;49m\u001b[43mkwargs\u001b[49m\u001b[43m)\u001b[49m\n",
      "File \u001b[1;32mC:\\repos\\anaconda3\\envs\\star_jeans\\lib\\site-packages\\pandas\\core\\frame.py:6110\u001b[0m, in \u001b[0;36mDataFrame.drop_duplicates\u001b[1;34m(self, subset, keep, inplace, ignore_index)\u001b[0m\n\u001b[0;32m   6108\u001b[0m inplace \u001b[38;5;241m=\u001b[39m validate_bool_kwarg(inplace, \u001b[38;5;124m\"\u001b[39m\u001b[38;5;124minplace\u001b[39m\u001b[38;5;124m\"\u001b[39m)\n\u001b[0;32m   6109\u001b[0m ignore_index \u001b[38;5;241m=\u001b[39m validate_bool_kwarg(ignore_index, \u001b[38;5;124m\"\u001b[39m\u001b[38;5;124mignore_index\u001b[39m\u001b[38;5;124m\"\u001b[39m)\n\u001b[1;32m-> 6110\u001b[0m duplicated \u001b[38;5;241m=\u001b[39m \u001b[38;5;28;43mself\u001b[39;49m\u001b[38;5;241;43m.\u001b[39;49m\u001b[43mduplicated\u001b[49m\u001b[43m(\u001b[49m\u001b[43msubset\u001b[49m\u001b[43m,\u001b[49m\u001b[43m \u001b[49m\u001b[43mkeep\u001b[49m\u001b[38;5;241;43m=\u001b[39;49m\u001b[43mkeep\u001b[49m\u001b[43m)\u001b[49m\n\u001b[0;32m   6112\u001b[0m result \u001b[38;5;241m=\u001b[39m \u001b[38;5;28mself\u001b[39m[\u001b[38;5;241m-\u001b[39mduplicated]\n\u001b[0;32m   6113\u001b[0m \u001b[38;5;28;01mif\u001b[39;00m ignore_index:\n",
      "File \u001b[1;32mC:\\repos\\anaconda3\\envs\\star_jeans\\lib\\site-packages\\pandas\\core\\frame.py:6244\u001b[0m, in \u001b[0;36mDataFrame.duplicated\u001b[1;34m(self, subset, keep)\u001b[0m\n\u001b[0;32m   6242\u001b[0m diff \u001b[38;5;241m=\u001b[39m Index(subset)\u001b[38;5;241m.\u001b[39mdifference(\u001b[38;5;28mself\u001b[39m\u001b[38;5;241m.\u001b[39mcolumns)\n\u001b[0;32m   6243\u001b[0m \u001b[38;5;28;01mif\u001b[39;00m \u001b[38;5;129;01mnot\u001b[39;00m diff\u001b[38;5;241m.\u001b[39mempty:\n\u001b[1;32m-> 6244\u001b[0m     \u001b[38;5;28;01mraise\u001b[39;00m \u001b[38;5;167;01mKeyError\u001b[39;00m(diff)\n\u001b[0;32m   6246\u001b[0m vals \u001b[38;5;241m=\u001b[39m (col\u001b[38;5;241m.\u001b[39mvalues \u001b[38;5;28;01mfor\u001b[39;00m name, col \u001b[38;5;129;01min\u001b[39;00m \u001b[38;5;28mself\u001b[39m\u001b[38;5;241m.\u001b[39mitems() \u001b[38;5;28;01mif\u001b[39;00m name \u001b[38;5;129;01min\u001b[39;00m subset)\n\u001b[0;32m   6247\u001b[0m labels, shape \u001b[38;5;241m=\u001b[39m \u001b[38;5;28mmap\u001b[39m(\u001b[38;5;28mlist\u001b[39m, \u001b[38;5;28mzip\u001b[39m(\u001b[38;5;241m*\u001b[39m\u001b[38;5;28mmap\u001b[39m(f, vals)))\n",
      "\u001b[1;31mKeyError\u001b[0m: Index(['color_id', 'scrapy_datetime', 'style_id'], dtype='object')"
     ]
    }
   ],
   "source": [
    "# product_id\n",
    "df_data = df_compositions.dropna(subset=['product_id'])\n",
    "\n",
    "# product_name\n",
    "df_data['product_name'] = df_data['product_name'].str.replace( '\\n', '' )\n",
    "df_data['product_name'] = df_data['product_name'].str.replace( '\\t', '' )\n",
    "df_data['product_name'] = df_data['product_name'].str.replace( '  ', '' )\n",
    "df_data['product_name'] = df_data['product_name'].str.replace( ' ', '_' ).str.lower()\n",
    "\n",
    "# product_price\n",
    "df_data['product_price'] = df_data['product_price'].astype(float)\n",
    "\n",
    "# color_name\n",
    "df_data['color_name'] = df_data['color_name'].str.replace( ' ','_' ).str.lower()\n",
    "\n",
    "# fit\n",
    "df_data['fit'] = df_data['fit'].str.replace( ' ','_' ).str.lower()\n",
    "\n",
    "# size\n",
    "#data['size_number'] = data['size'].apply( lambda x: re.search( '\\d{3}cm', x ).group(0) if pd.notnull( x ) else x)\n",
    "#data['size_number'] = data['size_number'].apply( lambda x: re.search( '\\d+', x ).group(0) if pd.notnull( x ) else x)\n",
    "\n",
    "# size model\n",
    "#data['size_model'] = data['size'].str.extract( '(\\d+/\\\\d+)' )\n",
    "\n",
    "# drop duplicates\n",
    "df_data = df_data.drop_duplicates( subset=['product_id', 'composition', 'fit', 'product_name', 'product_price', 'color_name', 'style_id', 'color_id', 'scrapy_datetime'], keep='last' )\n",
    "\n",
    "# reset index\n",
    "#data = data.reset_index( drop=True )\n",
    "\n",
    "# break composition by comma\n",
    "df1 = df_data['composition'].str.split( ',', expand=True ).reset_index(drop=True)\n",
    "\n",
    "# cotton | polyester | spandex  | elastomultiester\n",
    "df_ref = pd.DataFrame( index=np.arange( len(df_data) ), columns=['cotton', 'polyester', 'spandex', 'elastomultiester'] )\n",
    "\n",
    "# =============================== composition ==========================================\n",
    "\n",
    "# ---------- cotton ----------\n",
    "df_cotton_0 = df1.loc[df1[0].str.contains( 'Cotton', na=True ), 0]\n",
    "df_cotton_0.name = 'cotton'\n",
    "\n",
    "df_cotton_1 = df1.loc[df1[1].str.contains( 'Cotton', na=True ), 1]\n",
    "df_cotton_1.name = 'cotton'\n",
    "\n",
    "# combine\n",
    "\n",
    "df_cotton = df_cotton_0.combine_first( df_cotton_1 )\n",
    "\n",
    "df_ref = pd.concat( [df_ref, df_cotton ], axis=1 )\n",
    "df_ref = df_ref.iloc[:, ~df_ref.columns.duplicated( keep='last' )]\n",
    "\n",
    "# ---------- polyester ----------\n",
    "df_polyester_0 = df1.loc[df1[0].str.contains('Polyester', na=True), 0]\n",
    "df_polyester_0.name = 'polyester'\n",
    "\n",
    "df_polyester_1 = df1.loc[df1[1].str.contains('Polyester', na=True), 1]\n",
    "df_polyester_1.name = 'polyester'\n",
    "\n",
    "# combine\n",
    "\n",
    "df_polyester = df_polyester_0.combine_first( df_polyester_1 )\n",
    "\n",
    "df_ref = pd.concat( [df_ref, df_polyester], axis=1 )\n",
    "df_ref = df_ref.iloc[:, ~df_ref.columns.duplicated( keep='last' )]\n",
    "\n",
    "# ---------- spandex ----------\n",
    "df_spandex_1 = df1.loc[df1[1].str.contains('Spandex', na=True), 1]\n",
    "df_spandex_1.name = 'spandex'\n",
    "\n",
    "df_spandex_2 = df1.loc[df1[2].str.contains('Spandex', na=True), 2]\n",
    "df_spandex_2.name = 'spandex'\n",
    "\n",
    "# combine\n",
    "\n",
    "df_spandex = df_spandex_1.combine_first( df_spandex_2 )\n",
    "\n",
    "df_ref = pd.concat( [df_ref, df_spandex], axis=1 )\n",
    "df_ref = df_ref.iloc[:, ~df_ref.columns.duplicated( keep='last' )]\n",
    "\n",
    "# ---------- elastomultiester ----------\n",
    "df_elastomultiester = df1.loc[df1[1].str.contains('Elastomultiester', na=True), 1]\n",
    "df_elastomultiester.name = 'elastomultiester'\n",
    "\n",
    "df_ref = pd.concat( [df_ref, df_elastomultiester], axis=1 )\n",
    "df_ref = df_ref.iloc[:, ~df_ref.columns.duplicated( keep='last' )]\n",
    "\n",
    "# join of combine with product_id\n",
    "df_aux = pd.concat( [df_data['product_id'].reset_index(drop=True), df_ref], axis=1 )\n",
    "\n",
    "# format composition data\n",
    "df_aux['cotton']     = df_aux['cotton'].apply( lambda x: int( re.search( '\\d+', x ).group(0)) / 100 if pd.notnull( x ) else x)\n",
    "df_aux['polyester']  = df_aux['polyester'].apply( lambda x: int( re.search( '\\d+', x ).group(0)) / 100 if pd.notnull( x ) else x)\n",
    "df_aux['spandex']   = df_aux['spandex'].apply( lambda x: int( re.search( '\\d+', x ).group(0)) / 100 if pd.notnull( x ) else x)\n",
    "df_aux['elastomultiester'] = df_aux['elastomultiester'].apply( lambda x: int( re.search( '\\d+', x ).group(0)) / 100 if pd.notnull( x ) else x)\n",
    "\n",
    "# final join\n",
    "df_aux = df_aux.groupby( 'product_id' ).max().reset_index().fillna(0)\n",
    "df_data = pd.merge( df_data, df_aux, on='product_id', how='left' )\n",
    "\n",
    "# Drop columns\n",
    "df_data = df_data.drop( columns=['composition'], axis=1 )\n",
    "\n",
    "# drop duplicates\n",
    "df_data = df_data.drop_duplicates()\n",
    "df_data.shape"
   ]
  },
  {
   "cell_type": "markdown",
   "id": "66057c8e",
   "metadata": {},
   "source": [
    "# 4 - Database Creation"
   ]
  },
  {
   "cell_type": "code",
   "execution_count": null,
   "id": "8e9460c2",
   "metadata": {},
   "outputs": [],
   "source": [
    "data_insert = df_data[[\n",
    "    'product_id',\n",
    "    'style_id',\n",
    "    'color_id',\n",
    "    'product_name',\n",
    "    'color_name',\n",
    "    'fit',\n",
    "    'product_price',\n",
    "    'cotton',\n",
    "    'polyester',\n",
    "    'spandex',\n",
    "    'elastomultiester',\n",
    "    'scrapy_datetime'\n",
    "]]"
   ]
  },
  {
   "cell_type": "code",
   "execution_count": null,
   "id": "32c5309b",
   "metadata": {},
   "outputs": [],
   "source": [
    "#query_showroom_schema = \"\"\"\n",
    "#    CREATE TABLE vitrine(\n",
    "#        product_id        TEXT,\n",
    "#        style_id          TEXT,\n",
    "#        color_id          TEXT,\n",
    "#        product_name      TEXT,\n",
    "#        color_name        TEXT,\n",
    "#        fit               TEXT,\n",
    "#        product_price     REAL,\n",
    "#        cotton            REAL,\n",
    "#        polyester         REAL,\n",
    "#        spandex           REAL,,\n",
    "#        elastomultiester  TEXT,\n",
    "#        scrapy_datetime   TEXT\n",
    "#    )      \n",
    "#\"\"\""
   ]
  },
  {
   "cell_type": "code",
   "execution_count": null,
   "id": "86b6fa8f",
   "metadata": {},
   "outputs": [],
   "source": [
    "# create table\n",
    "conn = sqlite3.connect('database_hm.sqlite')\n",
    "cursor = conn.execute( query_showroom_schema )\n",
    "conn.commit()"
   ]
  },
  {
   "cell_type": "code",
   "execution_count": null,
   "id": "b270d00b",
   "metadata": {},
   "outputs": [],
   "source": [
    "# create database connection\n",
    "conn = create_engine( 'sqlite:///database_hm.sqlite', echo=False )\n",
    "\n",
    "# data insert\n",
    "data_insert.to_sql( 'vitrine', con=conn, if_exists='append', index=False )"
   ]
  },
  {
   "cell_type": "markdown",
   "id": "c537920c",
   "metadata": {},
   "source": [
    "# 5 - Data Loading"
   ]
  },
  {
   "cell_type": "code",
   "execution_count": 4,
   "id": "5c8ba50e",
   "metadata": {},
   "outputs": [],
   "source": [
    "path = 'C:\\\\Users\\\\Leonardo de Freitas\\\\repos\\\\star_jeans'\n",
    "database_name = 'database_hm.sqlite'\n",
    "conn = create_engine('sqlite:///' + database_name, echo=False)"
   ]
  },
  {
   "cell_type": "code",
   "execution_count": 5,
   "id": "9ecab920",
   "metadata": {},
   "outputs": [],
   "source": [
    "query = \"\"\"\n",
    "    SELECT * FROM vitrine\n",
    "\"\"\""
   ]
  },
  {
   "cell_type": "code",
   "execution_count": 6,
   "id": "3bea0544",
   "metadata": {},
   "outputs": [],
   "source": [
    "df_raw = pd.read_sql_query( query, con=conn )"
   ]
  },
  {
   "cell_type": "code",
   "execution_count": 7,
   "id": "c7023fe0",
   "metadata": {},
   "outputs": [
    {
     "data": {
      "text/html": [
       "<div>\n",
       "<style scoped>\n",
       "    .dataframe tbody tr th:only-of-type {\n",
       "        vertical-align: middle;\n",
       "    }\n",
       "\n",
       "    .dataframe tbody tr th {\n",
       "        vertical-align: top;\n",
       "    }\n",
       "\n",
       "    .dataframe thead th {\n",
       "        text-align: right;\n",
       "    }\n",
       "</style>\n",
       "<table border=\"1\" class=\"dataframe\">\n",
       "  <thead>\n",
       "    <tr style=\"text-align: right;\">\n",
       "      <th></th>\n",
       "      <th>product_id</th>\n",
       "      <th>style_id</th>\n",
       "      <th>color_id</th>\n",
       "      <th>product_name</th>\n",
       "      <th>color_name</th>\n",
       "      <th>fit</th>\n",
       "      <th>product_price</th>\n",
       "      <th>cotton</th>\n",
       "      <th>polyester</th>\n",
       "      <th>spandex</th>\n",
       "      <th>elastomultiester</th>\n",
       "      <th>scrapy_datetime</th>\n",
       "    </tr>\n",
       "  </thead>\n",
       "  <tbody>\n",
       "    <tr>\n",
       "      <th>0</th>\n",
       "      <td>0985159001</td>\n",
       "      <td>0985159</td>\n",
       "      <td>001</td>\n",
       "      <td>skinny_jeans</td>\n",
       "      <td>black</td>\n",
       "      <td>skinny_fit</td>\n",
       "      <td>19.99</td>\n",
       "      <td>1.00</td>\n",
       "      <td>0.00</td>\n",
       "      <td>0.01</td>\n",
       "      <td>0.0</td>\n",
       "      <td>2022-03-24 06:58:48</td>\n",
       "    </tr>\n",
       "    <tr>\n",
       "      <th>1</th>\n",
       "      <td>1024256001</td>\n",
       "      <td>1024256</td>\n",
       "      <td>001</td>\n",
       "      <td>slim_jeans</td>\n",
       "      <td>black</td>\n",
       "      <td>slim_fit</td>\n",
       "      <td>19.99</td>\n",
       "      <td>0.99</td>\n",
       "      <td>0.65</td>\n",
       "      <td>0.01</td>\n",
       "      <td>0.0</td>\n",
       "      <td>2022-03-24 06:58:48</td>\n",
       "    </tr>\n",
       "    <tr>\n",
       "      <th>2</th>\n",
       "      <td>0690449043</td>\n",
       "      <td>0690449</td>\n",
       "      <td>043</td>\n",
       "      <td>skinny_jeans</td>\n",
       "      <td>light_denim_blue/trashed</td>\n",
       "      <td>skinny_fit</td>\n",
       "      <td>39.99</td>\n",
       "      <td>0.98</td>\n",
       "      <td>0.65</td>\n",
       "      <td>0.02</td>\n",
       "      <td>0.0</td>\n",
       "      <td>2022-03-24 06:58:48</td>\n",
       "    </tr>\n",
       "    <tr>\n",
       "      <th>3</th>\n",
       "      <td>0979945001</td>\n",
       "      <td>0979945</td>\n",
       "      <td>001</td>\n",
       "      <td>loose_jeans</td>\n",
       "      <td>light_denim_blue</td>\n",
       "      <td>loose_fit</td>\n",
       "      <td>39.99</td>\n",
       "      <td>1.00</td>\n",
       "      <td>0.65</td>\n",
       "      <td>0.00</td>\n",
       "      <td>0.0</td>\n",
       "      <td>2022-03-24 06:58:48</td>\n",
       "    </tr>\n",
       "    <tr>\n",
       "      <th>4</th>\n",
       "      <td>0690449022</td>\n",
       "      <td>0690449</td>\n",
       "      <td>022</td>\n",
       "      <td>skinny_jeans</td>\n",
       "      <td>black/trashed</td>\n",
       "      <td>skinny_fit</td>\n",
       "      <td>39.99</td>\n",
       "      <td>0.98</td>\n",
       "      <td>1.00</td>\n",
       "      <td>0.02</td>\n",
       "      <td>0.0</td>\n",
       "      <td>2022-03-24 06:58:48</td>\n",
       "    </tr>\n",
       "  </tbody>\n",
       "</table>\n",
       "</div>"
      ],
      "text/plain": [
       "   product_id style_id color_id  product_name                color_name  \\\n",
       "0  0985159001  0985159      001  skinny_jeans                     black   \n",
       "1  1024256001  1024256      001    slim_jeans                     black   \n",
       "2  0690449043  0690449      043  skinny_jeans  light_denim_blue/trashed   \n",
       "3  0979945001  0979945      001   loose_jeans          light_denim_blue   \n",
       "4  0690449022  0690449      022  skinny_jeans             black/trashed   \n",
       "\n",
       "          fit  product_price  cotton  polyester  spandex  elastomultiester  \\\n",
       "0  skinny_fit          19.99    1.00       0.00     0.01               0.0   \n",
       "1    slim_fit          19.99    0.99       0.65     0.01               0.0   \n",
       "2  skinny_fit          39.99    0.98       0.65     0.02               0.0   \n",
       "3   loose_fit          39.99    1.00       0.65     0.00               0.0   \n",
       "4  skinny_fit          39.99    0.98       1.00     0.02               0.0   \n",
       "\n",
       "       scrapy_datetime  \n",
       "0  2022-03-24 06:58:48  \n",
       "1  2022-03-24 06:58:48  \n",
       "2  2022-03-24 06:58:48  \n",
       "3  2022-03-24 06:58:48  \n",
       "4  2022-03-24 06:58:48  "
      ]
     },
     "execution_count": 7,
     "metadata": {},
     "output_type": "execute_result"
    }
   ],
   "source": [
    "df_raw.head()"
   ]
  },
  {
   "cell_type": "markdown",
   "id": "9caeb98b",
   "metadata": {},
   "source": [
    "# 6 - Data Overview"
   ]
  },
  {
   "cell_type": "markdown",
   "id": "51db9f8b",
   "metadata": {},
   "source": [
    "## 6.1 - Data description"
   ]
  },
  {
   "cell_type": "code",
   "execution_count": 20,
   "id": "6feb473b",
   "metadata": {},
   "outputs": [
    {
     "data": {
      "text/plain": [
       "(160, 12)"
      ]
     },
     "execution_count": 20,
     "metadata": {},
     "output_type": "execute_result"
    }
   ],
   "source": [
    "df00 = df_raw.copy()\n",
    "\n",
    "## Removing duplicates\n",
    "df01 = df00.drop_duplicates()\n",
    "df01.shape"
   ]
  },
  {
   "cell_type": "markdown",
   "id": "deee09e3",
   "metadata": {},
   "source": [
    "## 6.2 - Data dimension"
   ]
  },
  {
   "cell_type": "code",
   "execution_count": 21,
   "id": "cf77210b",
   "metadata": {},
   "outputs": [
    {
     "name": "stdout",
     "output_type": "stream",
     "text": [
      "Number of rows: 160\n",
      "Number of columns: 12\n"
     ]
    }
   ],
   "source": [
    "print( 'Number of rows: {}'.format( df01.shape[0] ) )\n",
    "print( 'Number of columns: {}'.format( df01.shape[1] ) )"
   ]
  },
  {
   "cell_type": "markdown",
   "id": "3da17951",
   "metadata": {},
   "source": [
    "## 6.3 - Data types"
   ]
  },
  {
   "cell_type": "code",
   "execution_count": 13,
   "id": "6fae3002",
   "metadata": {},
   "outputs": [
    {
     "data": {
      "text/plain": [
       "product_id           object\n",
       "style_id             object\n",
       "color_id             object\n",
       "product_name         object\n",
       "color_name           object\n",
       "fit                  object\n",
       "product_price       float64\n",
       "cotton              float64\n",
       "polyester           float64\n",
       "spandex             float64\n",
       "elastomultiester    float64\n",
       "scrapy_datetime      object\n",
       "dtype: object"
      ]
     },
     "execution_count": 13,
     "metadata": {},
     "output_type": "execute_result"
    }
   ],
   "source": [
    "df01.dtypes"
   ]
  },
  {
   "cell_type": "markdown",
   "id": "8c70a4eb",
   "metadata": {},
   "source": [
    "## 6.4 - Identification of missing data"
   ]
  },
  {
   "cell_type": "code",
   "execution_count": 14,
   "id": "090b6625",
   "metadata": {},
   "outputs": [
    {
     "data": {
      "text/plain": [
       "product_id          0\n",
       "style_id            0\n",
       "color_id            0\n",
       "product_name        0\n",
       "color_name          0\n",
       "fit                 0\n",
       "product_price       0\n",
       "cotton              0\n",
       "polyester           0\n",
       "spandex             0\n",
       "elastomultiester    0\n",
       "scrapy_datetime     0\n",
       "dtype: int64"
      ]
     },
     "execution_count": 14,
     "metadata": {},
     "output_type": "execute_result"
    }
   ],
   "source": [
    "df01.isna().sum()"
   ]
  },
  {
   "cell_type": "code",
   "execution_count": 15,
   "id": "d949450e",
   "metadata": {},
   "outputs": [
    {
     "data": {
      "text/plain": [
       "product_id          0.0\n",
       "style_id            0.0\n",
       "color_id            0.0\n",
       "product_name        0.0\n",
       "color_name          0.0\n",
       "fit                 0.0\n",
       "product_price       0.0\n",
       "cotton              0.0\n",
       "polyester           0.0\n",
       "spandex             0.0\n",
       "elastomultiester    0.0\n",
       "scrapy_datetime     0.0\n",
       "dtype: float64"
      ]
     },
     "execution_count": 15,
     "metadata": {},
     "output_type": "execute_result"
    }
   ],
   "source": [
    "df01.isna().sum() / df01.shape[0]"
   ]
  },
  {
   "cell_type": "markdown",
   "id": "c6ac6d1c",
   "metadata": {},
   "source": [
    "# 7 - Descriptive Analysis"
   ]
  },
  {
   "cell_type": "markdown",
   "id": "9ce69c8f",
   "metadata": {},
   "source": [
    "## Descriptive Analysis gives you a conclusion of the distribution of your data, helps you detect typos and outliers, and enables you to identify similarities among variables. "
   ]
  },
  {
   "cell_type": "code",
   "execution_count": 16,
   "id": "9f5feedf",
   "metadata": {},
   "outputs": [],
   "source": [
    "num_attibutes = df01.select_dtypes( include=['int', 'float64'] )\n",
    "cat_attibutes = df01.select_dtypes( exclude=['int', 'float64', 'datetime64[ns]'] )"
   ]
  },
  {
   "cell_type": "code",
   "execution_count": 17,
   "id": "d33aefc4",
   "metadata": {},
   "outputs": [
    {
     "data": {
      "text/html": [
       "<div>\n",
       "<style scoped>\n",
       "    .dataframe tbody tr th:only-of-type {\n",
       "        vertical-align: middle;\n",
       "    }\n",
       "\n",
       "    .dataframe tbody tr th {\n",
       "        vertical-align: top;\n",
       "    }\n",
       "\n",
       "    .dataframe thead th {\n",
       "        text-align: right;\n",
       "    }\n",
       "</style>\n",
       "<table border=\"1\" class=\"dataframe\">\n",
       "  <thead>\n",
       "    <tr style=\"text-align: right;\">\n",
       "      <th></th>\n",
       "      <th>attributes</th>\n",
       "      <th>min</th>\n",
       "      <th>max</th>\n",
       "      <th>range</th>\n",
       "      <th>media</th>\n",
       "      <th>mediana</th>\n",
       "      <th>std</th>\n",
       "      <th>skew</th>\n",
       "      <th>kurtosis</th>\n",
       "    </tr>\n",
       "  </thead>\n",
       "  <tbody>\n",
       "    <tr>\n",
       "      <th>0</th>\n",
       "      <td>product_price</td>\n",
       "      <td>19.99</td>\n",
       "      <td>49.99</td>\n",
       "      <td>30.00</td>\n",
       "      <td>29.802500</td>\n",
       "      <td>29.99</td>\n",
       "      <td>9.761011</td>\n",
       "      <td>0.368557</td>\n",
       "      <td>-1.267842</td>\n",
       "    </tr>\n",
       "    <tr>\n",
       "      <th>1</th>\n",
       "      <td>cotton</td>\n",
       "      <td>0.77</td>\n",
       "      <td>1.00</td>\n",
       "      <td>0.23</td>\n",
       "      <td>0.976125</td>\n",
       "      <td>0.99</td>\n",
       "      <td>0.055543</td>\n",
       "      <td>-3.005839</td>\n",
       "      <td>7.711975</td>\n",
       "    </tr>\n",
       "    <tr>\n",
       "      <th>2</th>\n",
       "      <td>polyester</td>\n",
       "      <td>0.00</td>\n",
       "      <td>1.00</td>\n",
       "      <td>1.00</td>\n",
       "      <td>0.370500</td>\n",
       "      <td>0.65</td>\n",
       "      <td>0.327383</td>\n",
       "      <td>-0.085157</td>\n",
       "      <td>-1.759525</td>\n",
       "    </tr>\n",
       "    <tr>\n",
       "      <th>3</th>\n",
       "      <td>spandex</td>\n",
       "      <td>0.00</td>\n",
       "      <td>0.02</td>\n",
       "      <td>0.02</td>\n",
       "      <td>0.010000</td>\n",
       "      <td>0.01</td>\n",
       "      <td>0.006423</td>\n",
       "      <td>0.000000</td>\n",
       "      <td>-0.555705</td>\n",
       "    </tr>\n",
       "    <tr>\n",
       "      <th>4</th>\n",
       "      <td>elastomultiester</td>\n",
       "      <td>0.00</td>\n",
       "      <td>0.09</td>\n",
       "      <td>0.09</td>\n",
       "      <td>0.003687</td>\n",
       "      <td>0.00</td>\n",
       "      <td>0.017271</td>\n",
       "      <td>4.530421</td>\n",
       "      <td>18.849422</td>\n",
       "    </tr>\n",
       "  </tbody>\n",
       "</table>\n",
       "</div>"
      ],
      "text/plain": [
       "         attributes    min    max  range      media  mediana       std  \\\n",
       "0     product_price  19.99  49.99  30.00  29.802500    29.99  9.761011   \n",
       "1            cotton   0.77   1.00   0.23   0.976125     0.99  0.055543   \n",
       "2         polyester   0.00   1.00   1.00   0.370500     0.65  0.327383   \n",
       "3           spandex   0.00   0.02   0.02   0.010000     0.01  0.006423   \n",
       "4  elastomultiester   0.00   0.09   0.09   0.003687     0.00  0.017271   \n",
       "\n",
       "       skew   kurtosis  \n",
       "0  0.368557  -1.267842  \n",
       "1 -3.005839   7.711975  \n",
       "2 -0.085157  -1.759525  \n",
       "3  0.000000  -0.555705  \n",
       "4  4.530421  18.849422  "
      ]
     },
     "execution_count": 17,
     "metadata": {},
     "output_type": "execute_result"
    }
   ],
   "source": [
    "# tendência central tendency - média, mediana\n",
    "\n",
    "t1 = pd.DataFrame( num_attibutes.apply( np.mean ) ).T\n",
    "t2 = pd.DataFrame( num_attibutes.apply( np.median ) ).T\n",
    "\n",
    "# dispersion - std, min, max, range, skew, \n",
    "d1 = pd.DataFrame( num_attibutes.apply( np.std ) ).T\n",
    "d2 = pd.DataFrame( num_attibutes.apply( np.min ) ).T\n",
    "d3 = pd.DataFrame( num_attibutes.apply( np.max ) ).T\n",
    "d4 = pd.DataFrame( num_attibutes.apply( lambda x: x.max() - x.min() ) ).T\n",
    "d5 = pd.DataFrame( num_attibutes.apply( lambda x: x.skew() ) ).T\n",
    "d6 = pd.DataFrame( num_attibutes.apply( lambda x: x.kurtosis() ) ).T\n",
    "\n",
    "# concat\n",
    "m1 = pd.concat( [d2, d3, d4, t1, t2, d1, d5, d6] ).T.reset_index()\n",
    "m1.columns = ['attributes', 'min', 'max', 'range', 'media', 'mediana', 'std', 'skew', 'kurtosis']\n",
    "m1"
   ]
  },
  {
   "cell_type": "markdown",
   "id": "d7a9d4d4",
   "metadata": {},
   "source": [
    "# 8 - Data Visualization"
   ]
  },
  {
   "cell_type": "markdown",
   "id": "1b2f5e90",
   "metadata": {},
   "source": [
    "## 8.1 - Models x Prices "
   ]
  },
  {
   "cell_type": "code",
   "execution_count": 24,
   "id": "445e368a",
   "metadata": {},
   "outputs": [
    {
     "data": {
      "image/png": "[encoded data removed]",
      "text/plain": [
       "<Figure size 432x288 with 1 Axes>"
      ]
     },
     "metadata": {
      "needs_background": "light"
     },
     "output_type": "display_data"
    }
   ],
   "source": [
    "df1 = df_raw.groupby(['product_name'])['product_price'].median().reset_index()\n",
    "sns.barplot( x='product_price', y='product_name', data=df1 );"
   ]
  },
  {
   "cell_type": "markdown",
   "id": "823afa1a",
   "metadata": {},
   "source": [
    "## 8.2 - Models x No of Products"
   ]
  },
  {
   "cell_type": "code",
   "execution_count": 25,
   "id": "5d0cecb2",
   "metadata": {},
   "outputs": [
    {
     "data": {
      "image/png": "[encoded data removed]",
      "text/plain": [
       "<Figure size 432x288 with 1 Axes>"
      ]
     },
     "metadata": {
      "needs_background": "light"
     },
     "output_type": "display_data"
    }
   ],
   "source": [
    "df2 = df01.groupby(['product_name'])['product_id'].count().reset_index()\n",
    "sns.barplot( x='product_id', y='product_name', data=df2 );"
   ]
  },
  {
   "cell_type": "markdown",
   "id": "23c95418",
   "metadata": {},
   "source": [
    "## 8.3 - Colors x No of Products "
   ]
  },
  {
   "cell_type": "code",
   "execution_count": 26,
   "id": "4e8cc1d9",
   "metadata": {},
   "outputs": [
    {
     "data": {
      "image/png": "[encoded data removed]",
      "text/plain": [
       "<Figure size 432x288 with 1 Axes>"
      ]
     },
     "metadata": {
      "needs_background": "light"
     },
     "output_type": "display_data"
    }
   ],
   "source": [
    "df3 = df01.groupby(['color_name'])['product_id'].count().reset_index()\n",
    "sns.barplot( x='product_id', y='color_name', data=df3 );"
   ]
  },
  {
   "cell_type": "markdown",
   "id": "05f6738e",
   "metadata": {},
   "source": [
    "# 9 - Business Results"
   ]
  },
  {
   "cell_type": "markdown",
   "id": "bee2cc5b",
   "metadata": {},
   "source": [
    "## 9.1 - Media price for each model"
   ]
  },
  {
   "cell_type": "code",
   "execution_count": 31,
   "id": "70eccea4",
   "metadata": {},
   "outputs": [
    {
     "data": {
      "text/html": [
       "<div>\n",
       "<style scoped>\n",
       "    .dataframe tbody tr th:only-of-type {\n",
       "        vertical-align: middle;\n",
       "    }\n",
       "\n",
       "    .dataframe tbody tr th {\n",
       "        vertical-align: top;\n",
       "    }\n",
       "\n",
       "    .dataframe thead th {\n",
       "        text-align: right;\n",
       "    }\n",
       "</style>\n",
       "<table border=\"1\" class=\"dataframe\">\n",
       "  <thead>\n",
       "    <tr style=\"text-align: right;\">\n",
       "      <th></th>\n",
       "      <th>product_name</th>\n",
       "      <th>product_price</th>\n",
       "    </tr>\n",
       "  </thead>\n",
       "  <tbody>\n",
       "    <tr>\n",
       "      <th>0</th>\n",
       "      <td>regular_tapered_crop_jeans</td>\n",
       "      <td>19.99</td>\n",
       "    </tr>\n",
       "    <tr>\n",
       "      <th>1</th>\n",
       "      <td>slim_jeans</td>\n",
       "      <td>19.99</td>\n",
       "    </tr>\n",
       "    <tr>\n",
       "      <th>2</th>\n",
       "      <td>skinny_jeans</td>\n",
       "      <td>19.99</td>\n",
       "    </tr>\n",
       "    <tr>\n",
       "      <th>3</th>\n",
       "      <td>regular_jeans</td>\n",
       "      <td>19.99</td>\n",
       "    </tr>\n",
       "    <tr>\n",
       "      <th>4</th>\n",
       "      <td>relaxed_pull-on_jeans</td>\n",
       "      <td>24.99</td>\n",
       "    </tr>\n",
       "    <tr>\n",
       "      <th>5</th>\n",
       "      <td>skinny_cropped_jeans</td>\n",
       "      <td>29.99</td>\n",
       "    </tr>\n",
       "    <tr>\n",
       "      <th>6</th>\n",
       "      <td>regular_denim_joggers</td>\n",
       "      <td>29.99</td>\n",
       "    </tr>\n",
       "    <tr>\n",
       "      <th>7</th>\n",
       "      <td>relaxed_denim_joggers</td>\n",
       "      <td>29.99</td>\n",
       "    </tr>\n",
       "    <tr>\n",
       "      <th>8</th>\n",
       "      <td>relaxed_jeans</td>\n",
       "      <td>39.99</td>\n",
       "    </tr>\n",
       "    <tr>\n",
       "      <th>9</th>\n",
       "      <td>trashed_skinny_jeans</td>\n",
       "      <td>39.99</td>\n",
       "    </tr>\n",
       "    <tr>\n",
       "      <th>10</th>\n",
       "      <td>regular_bootcut_jeans</td>\n",
       "      <td>39.99</td>\n",
       "    </tr>\n",
       "    <tr>\n",
       "      <th>11</th>\n",
       "      <td>loose_jeans</td>\n",
       "      <td>39.99</td>\n",
       "    </tr>\n",
       "    <tr>\n",
       "      <th>12</th>\n",
       "      <td>loose_carpenter_jeans</td>\n",
       "      <td>39.99</td>\n",
       "    </tr>\n",
       "    <tr>\n",
       "      <th>13</th>\n",
       "      <td>hybrid_regular_tapered_joggers</td>\n",
       "      <td>39.99</td>\n",
       "    </tr>\n",
       "    <tr>\n",
       "      <th>14</th>\n",
       "      <td>hybrid_regular_denim_joggers</td>\n",
       "      <td>39.99</td>\n",
       "    </tr>\n",
       "    <tr>\n",
       "      <th>15</th>\n",
       "      <td>slim_tapered_jeans</td>\n",
       "      <td>39.99</td>\n",
       "    </tr>\n",
       "    <tr>\n",
       "      <th>16</th>\n",
       "      <td>relaxed_jeans_with_embroidery_detail</td>\n",
       "      <td>49.99</td>\n",
       "    </tr>\n",
       "    <tr>\n",
       "      <th>17</th>\n",
       "      <td>freefit®_slim_jeans</td>\n",
       "      <td>49.99</td>\n",
       "    </tr>\n",
       "  </tbody>\n",
       "</table>\n",
       "</div>"
      ],
      "text/plain": [
       "                            product_name  product_price\n",
       "0             regular_tapered_crop_jeans          19.99\n",
       "1                             slim_jeans          19.99\n",
       "2                           skinny_jeans          19.99\n",
       "3                          regular_jeans          19.99\n",
       "4                  relaxed_pull-on_jeans          24.99\n",
       "5                   skinny_cropped_jeans          29.99\n",
       "6                  regular_denim_joggers          29.99\n",
       "7                  relaxed_denim_joggers          29.99\n",
       "8                          relaxed_jeans          39.99\n",
       "9                   trashed_skinny_jeans          39.99\n",
       "10                 regular_bootcut_jeans          39.99\n",
       "11                           loose_jeans          39.99\n",
       "12                 loose_carpenter_jeans          39.99\n",
       "13        hybrid_regular_tapered_joggers          39.99\n",
       "14          hybrid_regular_denim_joggers          39.99\n",
       "15                    slim_tapered_jeans          39.99\n",
       "16  relaxed_jeans_with_embroidery_detail          49.99\n",
       "17                   freefit®_slim_jeans          49.99"
      ]
     },
     "execution_count": 31,
     "metadata": {},
     "output_type": "execute_result"
    }
   ],
   "source": [
    "df1.sort_values('product_price', axis=0, ascending=True).reset_index( drop=True )"
   ]
  },
  {
   "cell_type": "code",
   "execution_count": 42,
   "id": "82fea91f",
   "metadata": {},
   "outputs": [],
   "source": [
    "# create csv file\n",
    "df1.to_csv('price_report.csv', index=False)"
   ]
  },
  {
   "cell_type": "markdown",
   "id": "781ea34a",
   "metadata": {},
   "source": [
    "## 9.2 - The most frequent models"
   ]
  },
  {
   "cell_type": "code",
   "execution_count": 38,
   "id": "55b31507",
   "metadata": {
    "scrolled": true
   },
   "outputs": [
    {
     "data": {
      "text/html": [
       "<div>\n",
       "<style scoped>\n",
       "    .dataframe tbody tr th:only-of-type {\n",
       "        vertical-align: middle;\n",
       "    }\n",
       "\n",
       "    .dataframe tbody tr th {\n",
       "        vertical-align: top;\n",
       "    }\n",
       "\n",
       "    .dataframe thead th {\n",
       "        text-align: right;\n",
       "    }\n",
       "</style>\n",
       "<table border=\"1\" class=\"dataframe\">\n",
       "  <thead>\n",
       "    <tr style=\"text-align: right;\">\n",
       "      <th></th>\n",
       "      <th>product_name</th>\n",
       "      <th>product_id</th>\n",
       "    </tr>\n",
       "  </thead>\n",
       "  <tbody>\n",
       "    <tr>\n",
       "      <th>0</th>\n",
       "      <td>skinny_jeans</td>\n",
       "      <td>31</td>\n",
       "    </tr>\n",
       "    <tr>\n",
       "      <th>1</th>\n",
       "      <td>slim_jeans</td>\n",
       "      <td>30</td>\n",
       "    </tr>\n",
       "    <tr>\n",
       "      <th>2</th>\n",
       "      <td>regular_jeans</td>\n",
       "      <td>21</td>\n",
       "    </tr>\n",
       "    <tr>\n",
       "      <th>3</th>\n",
       "      <td>skinny_cropped_jeans</td>\n",
       "      <td>13</td>\n",
       "    </tr>\n",
       "    <tr>\n",
       "      <th>4</th>\n",
       "      <td>slim_tapered_jeans</td>\n",
       "      <td>12</td>\n",
       "    </tr>\n",
       "    <tr>\n",
       "      <th>5</th>\n",
       "      <td>loose_jeans</td>\n",
       "      <td>9</td>\n",
       "    </tr>\n",
       "    <tr>\n",
       "      <th>6</th>\n",
       "      <td>hybrid_regular_tapered_joggers</td>\n",
       "      <td>8</td>\n",
       "    </tr>\n",
       "    <tr>\n",
       "      <th>7</th>\n",
       "      <td>freefit®_slim_jeans</td>\n",
       "      <td>7</td>\n",
       "    </tr>\n",
       "    <tr>\n",
       "      <th>8</th>\n",
       "      <td>relaxed_jeans</td>\n",
       "      <td>7</td>\n",
       "    </tr>\n",
       "    <tr>\n",
       "      <th>9</th>\n",
       "      <td>regular_tapered_crop_jeans</td>\n",
       "      <td>7</td>\n",
       "    </tr>\n",
       "    <tr>\n",
       "      <th>10</th>\n",
       "      <td>relaxed_denim_joggers</td>\n",
       "      <td>4</td>\n",
       "    </tr>\n",
       "    <tr>\n",
       "      <th>11</th>\n",
       "      <td>hybrid_regular_denim_joggers</td>\n",
       "      <td>3</td>\n",
       "    </tr>\n",
       "    <tr>\n",
       "      <th>12</th>\n",
       "      <td>relaxed_pull-on_jeans</td>\n",
       "      <td>2</td>\n",
       "    </tr>\n",
       "    <tr>\n",
       "      <th>13</th>\n",
       "      <td>regular_denim_joggers</td>\n",
       "      <td>2</td>\n",
       "    </tr>\n",
       "    <tr>\n",
       "      <th>14</th>\n",
       "      <td>relaxed_jeans_with_embroidery_detail</td>\n",
       "      <td>1</td>\n",
       "    </tr>\n",
       "    <tr>\n",
       "      <th>15</th>\n",
       "      <td>regular_bootcut_jeans</td>\n",
       "      <td>1</td>\n",
       "    </tr>\n",
       "    <tr>\n",
       "      <th>16</th>\n",
       "      <td>loose_carpenter_jeans</td>\n",
       "      <td>1</td>\n",
       "    </tr>\n",
       "    <tr>\n",
       "      <th>17</th>\n",
       "      <td>trashed_skinny_jeans</td>\n",
       "      <td>1</td>\n",
       "    </tr>\n",
       "  </tbody>\n",
       "</table>\n",
       "</div>"
      ],
      "text/plain": [
       "                            product_name  product_id\n",
       "0                           skinny_jeans          31\n",
       "1                             slim_jeans          30\n",
       "2                          regular_jeans          21\n",
       "3                   skinny_cropped_jeans          13\n",
       "4                     slim_tapered_jeans          12\n",
       "5                            loose_jeans           9\n",
       "6         hybrid_regular_tapered_joggers           8\n",
       "7                    freefit®_slim_jeans           7\n",
       "8                          relaxed_jeans           7\n",
       "9             regular_tapered_crop_jeans           7\n",
       "10                 relaxed_denim_joggers           4\n",
       "11          hybrid_regular_denim_joggers           3\n",
       "12                 relaxed_pull-on_jeans           2\n",
       "13                 regular_denim_joggers           2\n",
       "14  relaxed_jeans_with_embroidery_detail           1\n",
       "15                 regular_bootcut_jeans           1\n",
       "16                 loose_carpenter_jeans           1\n",
       "17                  trashed_skinny_jeans           1"
      ]
     },
     "execution_count": 38,
     "metadata": {},
     "output_type": "execute_result"
    }
   ],
   "source": [
    "df2.sort_values('product_id', axis=0, ascending=False).reset_index( drop=True )"
   ]
  },
  {
   "cell_type": "markdown",
   "id": "d4e6225f",
   "metadata": {},
   "source": [
    "## 9.3 - The most frequent colors"
   ]
  },
  {
   "cell_type": "code",
   "execution_count": 41,
   "id": "dcc077a4",
   "metadata": {},
   "outputs": [
    {
     "data": {
      "text/html": [
       "<div>\n",
       "<style scoped>\n",
       "    .dataframe tbody tr th:only-of-type {\n",
       "        vertical-align: middle;\n",
       "    }\n",
       "\n",
       "    .dataframe tbody tr th {\n",
       "        vertical-align: top;\n",
       "    }\n",
       "\n",
       "    .dataframe thead th {\n",
       "        text-align: right;\n",
       "    }\n",
       "</style>\n",
       "<table border=\"1\" class=\"dataframe\">\n",
       "  <thead>\n",
       "    <tr style=\"text-align: right;\">\n",
       "      <th></th>\n",
       "      <th>color_name</th>\n",
       "      <th>product_id</th>\n",
       "    </tr>\n",
       "  </thead>\n",
       "  <tbody>\n",
       "    <tr>\n",
       "      <th>0</th>\n",
       "      <td>light_denim_blue</td>\n",
       "      <td>33</td>\n",
       "    </tr>\n",
       "    <tr>\n",
       "      <th>1</th>\n",
       "      <td>black</td>\n",
       "      <td>32</td>\n",
       "    </tr>\n",
       "    <tr>\n",
       "      <th>2</th>\n",
       "      <td>denim_blue</td>\n",
       "      <td>28</td>\n",
       "    </tr>\n",
       "    <tr>\n",
       "      <th>3</th>\n",
       "      <td>dark_denim_blue</td>\n",
       "      <td>13</td>\n",
       "    </tr>\n",
       "    <tr>\n",
       "      <th>4</th>\n",
       "      <td>dark_gray</td>\n",
       "      <td>12</td>\n",
       "    </tr>\n",
       "    <tr>\n",
       "      <th>5</th>\n",
       "      <td>dark_blue</td>\n",
       "      <td>12</td>\n",
       "    </tr>\n",
       "    <tr>\n",
       "      <th>6</th>\n",
       "      <td>white</td>\n",
       "      <td>7</td>\n",
       "    </tr>\n",
       "    <tr>\n",
       "      <th>7</th>\n",
       "      <td>black/no_fade_black</td>\n",
       "      <td>3</td>\n",
       "    </tr>\n",
       "    <tr>\n",
       "      <th>8</th>\n",
       "      <td>gray</td>\n",
       "      <td>3</td>\n",
       "    </tr>\n",
       "    <tr>\n",
       "      <th>9</th>\n",
       "      <td>black/trashed</td>\n",
       "      <td>3</td>\n",
       "    </tr>\n",
       "    <tr>\n",
       "      <th>10</th>\n",
       "      <td>light_denim_blue/trashed</td>\n",
       "      <td>3</td>\n",
       "    </tr>\n",
       "    <tr>\n",
       "      <th>11</th>\n",
       "      <td>light_gray</td>\n",
       "      <td>3</td>\n",
       "    </tr>\n",
       "    <tr>\n",
       "      <th>12</th>\n",
       "      <td>pale_denim_blue</td>\n",
       "      <td>3</td>\n",
       "    </tr>\n",
       "    <tr>\n",
       "      <th>13</th>\n",
       "      <td>blue</td>\n",
       "      <td>1</td>\n",
       "    </tr>\n",
       "    <tr>\n",
       "      <th>14</th>\n",
       "      <td>black_denim</td>\n",
       "      <td>1</td>\n",
       "    </tr>\n",
       "    <tr>\n",
       "      <th>15</th>\n",
       "      <td>light_blue</td>\n",
       "      <td>1</td>\n",
       "    </tr>\n",
       "    <tr>\n",
       "      <th>16</th>\n",
       "      <td>light_denim_blue/smiley®</td>\n",
       "      <td>1</td>\n",
       "    </tr>\n",
       "    <tr>\n",
       "      <th>17</th>\n",
       "      <td>graphite_gray</td>\n",
       "      <td>1</td>\n",
       "    </tr>\n",
       "  </tbody>\n",
       "</table>\n",
       "</div>"
      ],
      "text/plain": [
       "                  color_name  product_id\n",
       "0           light_denim_blue          33\n",
       "1                      black          32\n",
       "2                 denim_blue          28\n",
       "3            dark_denim_blue          13\n",
       "4                  dark_gray          12\n",
       "5                  dark_blue          12\n",
       "6                      white           7\n",
       "7        black/no_fade_black           3\n",
       "8                       gray           3\n",
       "9              black/trashed           3\n",
       "10  light_denim_blue/trashed           3\n",
       "11                light_gray           3\n",
       "12           pale_denim_blue           3\n",
       "13                      blue           1\n",
       "14               black_denim           1\n",
       "15                light_blue           1\n",
       "16  light_denim_blue/smiley®           1\n",
       "17             graphite_gray           1"
      ]
     },
     "execution_count": 41,
     "metadata": {},
     "output_type": "execute_result"
    }
   ],
   "source": [
    "df3.sort_values('product_id', axis=0, ascending=False).reset_index( drop=True )"
   ]
  }
 ],
 "metadata": {
  "kernelspec": {
   "display_name": "Python 3 (ipykernel)",
   "language": "python",
   "name": "python3"
  },
  "language_info": {
   "codemirror_mode": {
    "name": "ipython",
    "version": 3
   },
   "file_extension": ".py",
   "mimetype": "text/x-python",
   "name": "python",
   "nbconvert_exporter": "python",
   "pygments_lexer": "ipython3",
   "version": "3.8.13"
  }
 },
 "nbformat": 4,
 "nbformat_minor": 5
}
